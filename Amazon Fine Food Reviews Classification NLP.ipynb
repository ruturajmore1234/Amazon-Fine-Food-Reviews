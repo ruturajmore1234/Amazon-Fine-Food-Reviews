{
  "nbformat": 4,
  "nbformat_minor": 0,
  "metadata": {
    "colab": {
      "name": "NEW{E commerce  Product( Fine Food ) Reviews using Logistic Regression}",
      "version": "0.3.2",
      "provenance": [],
      "collapsed_sections": [
        "ZKhWsoqGaMe7",
        "qRCuYGBupkEp"
      ]
    },
    "kernelspec": {
      "name": "python3",
      "display_name": "Python 3"
    },
    "accelerator": "GPU"
  },
  "cells": [
    {
      "cell_type": "markdown",
      "metadata": {
        "id": "R_YkS3JFYcia",
        "colab_type": "text"
      },
      "source": [
        "# E commerce  Product( Fine Food ) Reviews dataset consists of reviews of fine foods from Amazon.\n",
        "\n",
        "Number of reviews: 568,454\n",
        "Number of users: 256,059\n",
        "Number of products: 74,258\n",
        "Timespan: Oct 1999 - Oct 2012\n",
        "Number of Attributes/Columns in data: 10\n",
        "\n",
        "### Attribute Information:\n",
        "\n",
        "\n",
        "\n",
        "*   Id\n",
        "* ProductId - unique identifier for the product\n",
        "* UserId - unqiue identifier for the user\n",
        " * ProfileName\n",
        "* HelpfulnessNumerator - number of users who found the review helpful\n",
        "* HelpfulnessDenominator - number of users who indicated whether they found the review helpful or not\n",
        "* Score - rating between 1 and 5\n",
        "* Time - timestamp for the review\n",
        "* Summary - brief summary of the review\n",
        "* Text - text of the review\n",
        "\n",
        "Given Dataset consists of reviews of fine foods from E_commerce Website . Reviews describe (1)product and user information, (2)ratings, and (3) a plain text review.Here, Logistic Regression algorithm is applied on amazon reviews datasets to predict whether a review is positive or negative.\n",
        "\n",
        "Procedure to execute the above task is as follows:\n",
        "\n",
        "* Step1: Data Pre-processing is applied on given amazon reviews data-set.And Take sample of data from dataset because of computational limitations\n",
        "* Step2: Time based splitting on train and test datasets.\n",
        "* Step3: Apply Feature generation techniques(Bow,tfidf)\n",
        "* Step4: Apply Logistic Regression algorithm using each technique.\n",
        "* Step5: To find lambda using gridsearch cross-validation and random cross-validation\n",
        "* Step5: L2 regularization\n",
        "\n",
        "* Step6: Feature Importance for postive and Negative reviews\n",
        "\n",
        "         1. Most Important Feature\n",
        "         2. Bar plot of top 15 Important Features.\n",
        "\n",
        "## Objective:\n",
        "\n",
        "##### To classify given reviews (positive (Rating of 4 or 5) & negative (rating of 1 or 2)) using Logistic regression algorithm"
      ]
    },
    {
      "cell_type": "code",
      "metadata": {
        "id": "tWK1WJFfPeF_",
        "colab_type": "code",
        "outputId": "5c58a222-4b36-4d23-fe8b-5d8b50ebc3b9",
        "colab": {
          "resources": {
            "http://localhost:8080/nbextensions/google.colab/files.js": {
              "data": "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",
              "ok": true,
              "headers": [
                [
                  "content-type",
                  "application/javascript"
                ]
              ],
              "status": 200,
              "status_text": ""
            }
          },
          "base_uri": "https://localhost:8080/",
          "height": 92
        }
      },
      "source": [
        "\n",
        "!pip install -U -q kaggle\n",
        "!mkdir -p ~/.kaggle\n",
        "from google.colab import files\n",
        "files.upload()"
      ],
      "execution_count": 0,
      "outputs": [
        {
          "output_type": "display_data",
          "data": {
            "text/html": [
              "\n",
              "     <input type=\"file\" id=\"files-72f67415-bad6-4a7a-8dc4-1548244d37ed\" name=\"files[]\" multiple disabled />\n",
              "     <output id=\"result-72f67415-bad6-4a7a-8dc4-1548244d37ed\">\n",
              "      Upload widget is only available when the cell has been executed in the\n",
              "      current browser session. Please rerun this cell to enable.\n",
              "      </output>\n",
              "      <script src=\"/nbextensions/google.colab/files.js\"></script> "
            ],
            "text/plain": [
              "<IPython.core.display.HTML object>"
            ]
          },
          "metadata": {
            "tags": []
          }
        },
        {
          "output_type": "stream",
          "text": [
            "Saving kaggle.json to kaggle (1).json\n"
          ],
          "name": "stdout"
        },
        {
          "output_type": "execute_result",
          "data": {
            "text/plain": [
              "{'kaggle.json': b'{\"username\":\"priyag143\",\"key\":\"43c67edc4267d99dcc27bd143c23ccc6\"}'}"
            ]
          },
          "metadata": {
            "tags": []
          },
          "execution_count": 2
        }
      ]
    },
    {
      "cell_type": "code",
      "metadata": {
        "id": "mYDSH-XRgyPV",
        "colab_type": "code",
        "colab": {}
      },
      "source": [
        "!cp kaggle.json ~/.kaggle/"
      ],
      "execution_count": 0,
      "outputs": []
    },
    {
      "cell_type": "code",
      "metadata": {
        "id": "yFtLn1mFPnPR",
        "colab_type": "code",
        "outputId": "789a20f0-7da4-48f6-bb57-a0211bb308f0",
        "colab": {
          "base_uri": "https://localhost:8080/",
          "height": 52
        }
      },
      "source": [
        "!kaggle datasets download -d snap/amazon-fine-food-reviews"
      ],
      "execution_count": 0,
      "outputs": [
        {
          "output_type": "stream",
          "text": [
            "Warning: Your Kaggle API key is readable by other users on this system! To fix this, you can run 'chmod 600 /root/.kaggle/kaggle.json'\n",
            "amazon-fine-food-reviews.zip: Skipping, found more recently modified local copy (use --force to force download)\n"
          ],
          "name": "stdout"
        }
      ]
    },
    {
      "cell_type": "code",
      "metadata": {
        "id": "0zfu3Ku1PvXW",
        "colab_type": "code",
        "colab": {}
      },
      "source": [
        "# reading zip file\n",
        "import zipfile\n",
        "with zipfile.ZipFile(\"amazon-fine-food-reviews.zip\",\"r\") as zip_ref:\n",
        "    zip_ref.extractall(\"data\")"
      ],
      "execution_count": 0,
      "outputs": []
    },
    {
      "cell_type": "code",
      "metadata": {
        "id": "frHBDuafZKJ9",
        "colab_type": "code",
        "outputId": "e5930b75-0ee7-43ec-a36c-621eedfc0a7a",
        "colab": {
          "base_uri": "https://localhost:8080/",
          "height": 244
        }
      },
      "source": [
        "pip install pytablewriter"
      ],
      "execution_count": 0,
      "outputs": [
        {
          "output_type": "stream",
          "text": [
            "Requirement already satisfied: pytablewriter in /usr/local/lib/python3.6/dist-packages (0.46.1)\n",
            "Requirement already satisfied: pathvalidate<1.0.0,>=0.28.0 in /usr/local/lib/python3.6/dist-packages (from pytablewriter) (0.28.2)\n",
            "Requirement already satisfied: setuptools>=38.3.0 in /usr/local/lib/python3.6/dist-packages (from pytablewriter) (41.0.1)\n",
            "Requirement already satisfied: tabledata<1.0.0,>=0.9.1 in /usr/local/lib/python3.6/dist-packages (from pytablewriter) (0.9.1)\n",
            "Requirement already satisfied: msgfy<0.1.0,>=0.0.6 in /usr/local/lib/python3.6/dist-packages (from pytablewriter) (0.0.7)\n",
            "Requirement already satisfied: six<2.0.0,>=1.10.0 in /usr/local/lib/python3.6/dist-packages (from pytablewriter) (1.12.0)\n",
            "Requirement already satisfied: typepy[datetime]<1.0.0,>=0.6.0 in /usr/local/lib/python3.6/dist-packages (from pytablewriter) (0.6.0)\n",
            "Requirement already satisfied: mbstrdecoder[all]<1.0.0,>=0.8.0 in /usr/local/lib/python3.6/dist-packages (from pytablewriter) (0.8.1)\n",
            "Requirement already satisfied: DataProperty<1.0.0,>=0.43.1 in /usr/local/lib/python3.6/dist-packages (from pytablewriter) (0.43.1)\n",
            "Requirement already satisfied: python-dateutil<3.0.0,>=2.8.0; extra == \"datetime\" in /usr/local/lib/python3.6/dist-packages (from typepy[datetime]<1.0.0,>=0.6.0->pytablewriter) (2.8.0)\n",
            "Requirement already satisfied: pytz>=2018.9; extra == \"datetime\" in /usr/local/lib/python3.6/dist-packages (from typepy[datetime]<1.0.0,>=0.6.0->pytablewriter) (2018.9)\n",
            "Requirement already satisfied: chardet<4.0.0,>=3.0.4; extra == \"all\" in /usr/local/lib/python3.6/dist-packages (from mbstrdecoder[all]<1.0.0,>=0.8.0->pytablewriter) (3.0.4)\n"
          ],
          "name": "stdout"
        }
      ]
    },
    {
      "cell_type": "code",
      "metadata": {
        "id": "AUaPwjtcZA84",
        "colab_type": "code",
        "colab": {}
      },
      "source": [
        "\n",
        "# All necessary module\n",
        "%matplotlib inline\n",
        "import warnings\n",
        "warnings.filterwarnings(\"ignore\")\n",
        "#import  sys\n",
        "import re\n",
        "import math\n",
        "import sqlite3\n",
        "import pandas as pd\n",
        "import numpy as np\n",
        "import pickle\n",
        "\n",
        "from sklearn.model_selection import TimeSeriesSplit\n",
        "from sklearn.model_selection import cross_val_score\n",
        "from sklearn.model_selection import GridSearchCV\n",
        "\n",
        "import pytablewriter\n",
        "\n",
        "from sklearn.linear_model import LogisticRegression\n",
        "from scipy.stats import uniform\n",
        "from sklearn.model_selection import RandomizedSearchCV\n",
        "\n",
        "# modules for text processing\n",
        "import nltk\n",
        "import string\n",
        "from nltk.corpus import stopwords\n",
        "from nltk.stem import PorterStemmer\n",
        "from nltk.stem.wordnet import WordNetLemmatizer\n",
        "import matplotlib.pyplot as plt\n",
        "import seaborn as sns\n",
        "from sklearn.feature_extraction.text import TfidfTransformer\n",
        "from sklearn.feature_extraction.text import TfidfVectorizer\n",
        "\n",
        "from sklearn.feature_extraction.text import CountVectorizer\n",
        "from sklearn.metrics import confusion_matrix\n",
        "from sklearn import metrics\n",
        "from sklearn.metrics import f1_score\n",
        "from sklearn.metrics import recall_score\n",
        "from sklearn.metrics import precision_score\n",
        "\n",
        "#import scikitplot.metrics as skplt\n",
        "from sklearn.metrics import classification_report,confusion_matrix,accuracy_score\n",
        "\n",
        "from sklearn.metrics import roc_curve, auc\n",
        "from nltk.stem.porter import PorterStemmer\n",
        "\n",
        "\n",
        "# knn modules\n",
        "# train-split data,accuracy-score,cross-validation modules\n",
        "\n",
        "from sklearn.neighbors import KNeighborsClassifier\n",
        "from sklearn.metrics import accuracy_score\n",
        "\n",
        "from collections import Counter\n",
        "from sklearn.metrics import accuracy_score\n",
        "\n",
        "from sklearn.preprocessing import StandardScaler"
      ],
      "execution_count": 0,
      "outputs": []
    },
    {
      "cell_type": "code",
      "metadata": {
        "id": "hRUvtMxFQAjH",
        "colab_type": "code",
        "outputId": "8baba818-fd8b-4c53-bfa4-d6a2c99fb760",
        "colab": {
          "base_uri": "https://localhost:8080/",
          "height": 155
        }
      },
      "source": [
        "import pandas as pd\n",
        "amz=pd.read_csv('data/Reviews.csv')\n",
        "print(amz.head())"
      ],
      "execution_count": 0,
      "outputs": [
        {
          "output_type": "stream",
          "text": [
            "   Id  ...                                               Text\n",
            "0   1  ...  I have bought several of the Vitality canned d...\n",
            "1   2  ...  Product arrived labeled as Jumbo Salted Peanut...\n",
            "2   3  ...  This is a confection that has been around a fe...\n",
            "3   4  ...  If you are looking for the secret ingredient i...\n",
            "4   5  ...  Great taffy at a great price.  There was a wid...\n",
            "\n",
            "[5 rows x 10 columns]\n"
          ],
          "name": "stdout"
        }
      ]
    },
    {
      "cell_type": "code",
      "metadata": {
        "id": "8CvhVm14Zvh0",
        "colab_type": "code",
        "outputId": "15e48546-23e2-4144-d879-8c4a530a5aa2",
        "colab": {
          "base_uri": "https://localhost:8080/",
          "height": 86
        }
      },
      "source": [
        "print(amz.shape) \n",
        "#print(amz1.shape)\n",
        "print(amz.columns)"
      ],
      "execution_count": 0,
      "outputs": [
        {
          "output_type": "stream",
          "text": [
            "(568454, 10)\n",
            "Index(['Id', 'ProductId', 'UserId', 'ProfileName', 'HelpfulnessNumerator',\n",
            "       'HelpfulnessDenominator', 'Score', 'Time', 'Summary', 'Text'],\n",
            "      dtype='object')\n"
          ],
          "name": "stdout"
        }
      ]
    },
    {
      "cell_type": "markdown",
      "metadata": {
        "id": "8btMXgEDZ2D4",
        "colab_type": "text"
      },
      "source": [
        "reviews datafile contains 568454 rows of entry and 10 columns.For given objective, processing of data is necessary.\"Score\" and \"text\" columns is processed for required result.\n",
        "\n",
        "Given reviews with Score>3 a positive rating, and reviews with a score<3 a negative rating. If score is equal to 3,it is considered as neutral score."
      ]
    },
    {
      "cell_type": "code",
      "metadata": {
        "id": "0lV8bWMgZyHr",
        "colab_type": "code",
        "colab": {}
      },
      "source": [
        "# Processing\n",
        "#Give reviews with Score>3 a positive rating, and reviews with a score<3 a negative rating.\n",
        "\n",
        "def score_part(x):\n",
        "    if x < 3:\n",
        "        return 'negative'\n",
        "    return 'positive'\n",
        "\n",
        "actualScore = amz['Score']\n",
        "#print(actualScore)\n",
        "New_score = actualScore.map(score_part)\n",
        "#print(New_score)\n",
        "amz['Score']=New_score\n",
        "\n",
        "# If score is equal to 3,it is considered as neutral score."
      ],
      "execution_count": 0,
      "outputs": []
    },
    {
      "cell_type": "code",
      "metadata": {
        "id": "21waz-J2Z5Yk",
        "colab_type": "code",
        "outputId": "0ab03ea0-9485-4df2-8b29-490ffbb2663b",
        "colab": {
          "base_uri": "https://localhost:8080/",
          "height": 872
        }
      },
      "source": [
        "print(amz['Score'][0:10])\n",
        "print(amz.shape)\n",
        "amz.head(5)"
      ],
      "execution_count": 0,
      "outputs": [
        {
          "output_type": "stream",
          "text": [
            "0    positive\n",
            "1    negative\n",
            "2    positive\n",
            "3    negative\n",
            "4    positive\n",
            "5    positive\n",
            "6    positive\n",
            "7    positive\n",
            "8    positive\n",
            "9    positive\n",
            "Name: Score, dtype: object\n",
            "(568454, 10)\n"
          ],
          "name": "stdout"
        },
        {
          "output_type": "execute_result",
          "data": {
            "text/html": [
              "<div>\n",
              "<style scoped>\n",
              "    .dataframe tbody tr th:only-of-type {\n",
              "        vertical-align: middle;\n",
              "    }\n",
              "\n",
              "    .dataframe tbody tr th {\n",
              "        vertical-align: top;\n",
              "    }\n",
              "\n",
              "    .dataframe thead th {\n",
              "        text-align: right;\n",
              "    }\n",
              "</style>\n",
              "<table border=\"1\" class=\"dataframe\">\n",
              "  <thead>\n",
              "    <tr style=\"text-align: right;\">\n",
              "      <th></th>\n",
              "      <th>Id</th>\n",
              "      <th>ProductId</th>\n",
              "      <th>UserId</th>\n",
              "      <th>ProfileName</th>\n",
              "      <th>HelpfulnessNumerator</th>\n",
              "      <th>HelpfulnessDenominator</th>\n",
              "      <th>Score</th>\n",
              "      <th>Time</th>\n",
              "      <th>Summary</th>\n",
              "      <th>Text</th>\n",
              "    </tr>\n",
              "  </thead>\n",
              "  <tbody>\n",
              "    <tr>\n",
              "      <th>0</th>\n",
              "      <td>1</td>\n",
              "      <td>B001E4KFG0</td>\n",
              "      <td>A3SGXH7AUHU8GW</td>\n",
              "      <td>delmartian</td>\n",
              "      <td>1</td>\n",
              "      <td>1</td>\n",
              "      <td>positive</td>\n",
              "      <td>1303862400</td>\n",
              "      <td>Good Quality Dog Food</td>\n",
              "      <td>I have bought several of the Vitality canned d...</td>\n",
              "    </tr>\n",
              "    <tr>\n",
              "      <th>1</th>\n",
              "      <td>2</td>\n",
              "      <td>B00813GRG4</td>\n",
              "      <td>A1D87F6ZCVE5NK</td>\n",
              "      <td>dll pa</td>\n",
              "      <td>0</td>\n",
              "      <td>0</td>\n",
              "      <td>negative</td>\n",
              "      <td>1346976000</td>\n",
              "      <td>Not as Advertised</td>\n",
              "      <td>Product arrived labeled as Jumbo Salted Peanut...</td>\n",
              "    </tr>\n",
              "    <tr>\n",
              "      <th>2</th>\n",
              "      <td>3</td>\n",
              "      <td>B000LQOCH0</td>\n",
              "      <td>ABXLMWJIXXAIN</td>\n",
              "      <td>Natalia Corres \"Natalia Corres\"</td>\n",
              "      <td>1</td>\n",
              "      <td>1</td>\n",
              "      <td>positive</td>\n",
              "      <td>1219017600</td>\n",
              "      <td>\"Delight\" says it all</td>\n",
              "      <td>This is a confection that has been around a fe...</td>\n",
              "    </tr>\n",
              "    <tr>\n",
              "      <th>3</th>\n",
              "      <td>4</td>\n",
              "      <td>B000UA0QIQ</td>\n",
              "      <td>A395BORC6FGVXV</td>\n",
              "      <td>Karl</td>\n",
              "      <td>3</td>\n",
              "      <td>3</td>\n",
              "      <td>negative</td>\n",
              "      <td>1307923200</td>\n",
              "      <td>Cough Medicine</td>\n",
              "      <td>If you are looking for the secret ingredient i...</td>\n",
              "    </tr>\n",
              "    <tr>\n",
              "      <th>4</th>\n",
              "      <td>5</td>\n",
              "      <td>B006K2ZZ7K</td>\n",
              "      <td>A1UQRSCLF8GW1T</td>\n",
              "      <td>Michael D. Bigham \"M. Wassir\"</td>\n",
              "      <td>0</td>\n",
              "      <td>0</td>\n",
              "      <td>positive</td>\n",
              "      <td>1350777600</td>\n",
              "      <td>Great taffy</td>\n",
              "      <td>Great taffy at a great price.  There was a wid...</td>\n",
              "    </tr>\n",
              "  </tbody>\n",
              "</table>\n",
              "</div>"
            ],
            "text/plain": [
              "   Id  ...                                               Text\n",
              "0   1  ...  I have bought several of the Vitality canned d...\n",
              "1   2  ...  Product arrived labeled as Jumbo Salted Peanut...\n",
              "2   3  ...  This is a confection that has been around a fe...\n",
              "3   4  ...  If you are looking for the secret ingredient i...\n",
              "4   5  ...  Great taffy at a great price.  There was a wid...\n",
              "\n",
              "[5 rows x 10 columns]"
            ]
          },
          "metadata": {
            "tags": []
          },
          "execution_count": 10
        }
      ]
    },
    {
      "cell_type": "markdown",
      "metadata": {
        "id": "Uokn2EC-Z-Zc",
        "colab_type": "text"
      },
      "source": [
        "## Data Pre-processing on raw data:\n",
        "Every datasets contains some unwanted data.Raw data is preprocessed by removing duplication."
      ]
    },
    {
      "cell_type": "code",
      "metadata": {
        "id": "XUH3qyuXZ7fU",
        "colab_type": "code",
        "outputId": "2a713af9-6828-4518-e528-217a1833c69b",
        "colab": {
          "base_uri": "https://localhost:8080/",
          "height": 224
        }
      },
      "source": [
        "#Processing of ProductId\n",
        "#Sorting data according to ProductId in ascending order\n",
        "sorted_data=amz.sort_values('ProductId', axis=0, ascending=True, inplace=False, kind='quicksort', na_position='last')\n",
        "#sorted_data.head() # printing sorted data\n",
        "# To check the duplications in raw data\n",
        "dupli=sorted_data[sorted_data.duplicated([\"UserId\",\"ProfileName\",\"Time\",\"Text\"])]\n",
        "print(dupli.head(5))\n",
        "# Remove Deduplication of entries\n",
        "final=sorted_data.drop_duplicates(subset={\"UserId\",\"ProfileName\",\"Time\",\"Text\"}, keep='first', inplace=False)\n",
        "final.shape\n",
        "#Checking to see how much % of data still remains\n",
        "(final['Id'].size*1.0)/(amz['Id'].size*1.0)*100\n",
        "final=final[final.HelpfulnessNumerator<=final.HelpfulnessDenominator]\n",
        "#Before starting the next phase of preprocessing lets see the number of entries left\n",
        "print(final.shape)\n",
        "\n",
        "#How many positive and negative reviews are present in our dataset?\n",
        "final['Score'].value_counts()"
      ],
      "execution_count": 0,
      "outputs": [
        {
          "output_type": "stream",
          "text": [
            "            Id  ...                                               Text\n",
            "171222  171223  ...  Freeze dried liver has a hypnotic effect on do...\n",
            "171153  171154  ...  Freeze dried liver has a hypnotic effect on do...\n",
            "171151  171152  ...  Freeze dried liver has a hypnotic effect on do...\n",
            "217443  217444  ...  My dog can't resist these treats - I can get h...\n",
            "217444  217445  ...  My little pupster loves these things. She is n...\n",
            "\n",
            "[5 rows x 10 columns]\n",
            "(393931, 10)\n"
          ],
          "name": "stdout"
        },
        {
          "output_type": "execute_result",
          "data": {
            "text/plain": [
              "positive    336824\n",
              "negative     57107\n",
              "Name: Score, dtype: int64"
            ]
          },
          "metadata": {
            "tags": []
          },
          "execution_count": 11
        }
      ]
    },
    {
      "cell_type": "code",
      "metadata": {
        "id": "vPGZFt1yaDyP",
        "colab_type": "code",
        "outputId": "444df3c2-c6df-4d7c-cfaa-98fb96261e81",
        "colab": {
          "base_uri": "https://localhost:8080/",
          "height": 350
        }
      },
      "source": [
        "\n",
        "a=final['Score'].value_counts().tolist()\n",
        "print('List of total counts Postive score and Negative score ==>',a)\n",
        "final['Score'].value_counts().plot(kind='bar')\n",
        "plt.title('Total counts of Postive score and Negative score ')"
      ],
      "execution_count": 0,
      "outputs": [
        {
          "output_type": "stream",
          "text": [
            "List of total counts Postive score and Negative score ==> [336824, 57107]\n"
          ],
          "name": "stdout"
        },
        {
          "output_type": "execute_result",
          "data": {
            "text/plain": [
              "Text(0.5, 1.0, 'Total counts of Postive score and Negative score ')"
            ]
          },
          "metadata": {
            "tags": []
          },
          "execution_count": 12
        },
        {
          "output_type": "display_data",
          "data": {
            "image/png": "[encoded data removed]",
            "text/plain": [
              "<Figure size 432x288 with 1 Axes>"
            ]
          },
          "metadata": {
            "tags": []
          }
        }
      ]
    },
    {
      "cell_type": "markdown",
      "metadata": {
        "id": "ZKhWsoqGaMe7",
        "colab_type": "text"
      },
      "source": [
        "## observations\n",
        "The positive reviews is greater than negative reviews.It makes data imbalanced.\n",
        "From the bar plot ,it is seen that sampled datasets of review is imbalnced"
      ]
    },
    {
      "cell_type": "markdown",
      "metadata": {
        "id": "uTfV05s1aQi_",
        "colab_type": "text"
      },
      "source": [
        "# Text Preprocessing"
      ]
    },
    {
      "cell_type": "markdown",
      "metadata": {
        "id": "8UbfOangamSv",
        "colab_type": "text"
      },
      "source": [
        "Preprocessing Review Text\n",
        "Now that we have finished deduplication our data requires some preprocessing before we go on further with analysis and making the prediction model.\n",
        "\n",
        "Hence in the Preprocessing phase we do the following in the order below:-\n",
        "\n",
        "Begin by removing the html tags\n",
        "Remove any punctuations or limited set of special characters like , or . or # etc.\n",
        "Check if the word is made up of english letters and is not alpha-numeric\n",
        "Check to see if the length of the word is greater than 2 (as it was researched that there is no adjective in 2-letters)\n",
        "Convert the word to lowercase\n",
        "Remove Stopwords\n",
        "Finally Snowball Stemming the word (it was obsereved to be better than Porter Stemming)\n",
        "After which we collect the words used to describe positive and negative reviews"
      ]
    },
    {
      "cell_type": "code",
      "metadata": {
        "id": "dndX94NHaJve",
        "colab_type": "code",
        "outputId": "0cc4eaa2-7f5c-4c42-9414-9a1fc94bc172",
        "colab": {
          "base_uri": "https://localhost:8080/",
          "height": 175
        }
      },
      "source": [
        "# printing some random reviews\n",
        "sent_0 = final['Text'].values[0]\n",
        "print(sent_0)\n",
        "print(\"=\"*50)\n",
        "\n",
        "sent_1000 = final['Text'].values[1000]\n",
        "print(sent_1000)\n",
        "print(\"=\"*50)\n",
        "\n",
        "sent_1500 = final['Text'].values[1500]\n",
        "print(sent_1500)\n",
        "print(\"=\"*50)\n",
        "\n",
        "sent_4900 = final['Text'].values[4900]\n",
        "print(sent_4900)\n",
        "print(\"=\"*50)"
      ],
      "execution_count": 0,
      "outputs": [
        {
          "output_type": "stream",
          "text": [
            "In June<br />I saw a charming group<br />of roses all begin<br />to droop<br />I pepped them up<br />with chicken soup!<br />Sprinkle once<br />sprinkle twice<br />sprinkle chicken soup<br />with rice<br /><br />This is a great book to teach children the months of the year. The repetition of the phrases and the funny little stories with accompanying pictures make for an ideal bedtime read. This isn't nearly as good as some of Sendak's other books (like Where the Wild Things are or Pierre: The Boy Who Didn't Care), but it still carries his unique brand of charm.\n",
            "==================================================\n",
            "Its a great snack for icecream lovers who have teeth sensitve to cold.<br />All the flavor u want and no mater how much or fast u eat no brain frezze.<br />I found it best when its cold out side i can still have my icecream and not fell like im frezzing.<br />Its a great value price /per product. And has a long shelf life making it a good survival snack.\n",
            "==================================================\n",
            "My cat loves these bubbles. All I have to say is \"Do you want bubbles?\" and she comes running out from wherever she may be hiding. She meows and pounces on the bubbles. I am giving them a rating of 4 though because they smell horrible. If they drip on anything white it will turn green, but can easily be cleaned with some water and a sponge!!!!\n",
            "==================================================\n",
            "WOW, this is super spicy.  I usually like a kick to my food but wow, literally 2 drops keeps my mouth on fire throughout the meal.  It's a great prank to use on people at BBQ's (as long as they can take a joke) and is a great attention grabber at the office.  Over the past few months I've owned, I barely used 20% of the bottle.  I would definitely recommend if you like the extra \"umph\" in your food or just a morning wake up!\n",
            "==================================================\n"
          ],
          "name": "stdout"
        }
      ]
    },
    {
      "cell_type": "code",
      "metadata": {
        "id": "nY_MxU6Iasom",
        "colab_type": "code",
        "outputId": "7741f575-4d8e-473b-f8a3-49562be997cc",
        "colab": {
          "base_uri": "https://localhost:8080/",
          "height": 54
        }
      },
      "source": [
        "# remove urls from text python: https://stackoverflow.com/a/40823105/4084039\n",
        "sent_0 = re.sub(r\"http\\S+\", \"\", sent_0)\n",
        "sent_1000 = re.sub(r\"http\\S+\", \"\", sent_1000)\n",
        "sent_150 = re.sub(r\"http\\S+\", \"\", sent_1500)\n",
        "sent_4900 = re.sub(r\"http\\S+\", \"\", sent_4900)\n",
        "\n",
        "print(sent_0)"
      ],
      "execution_count": 0,
      "outputs": [
        {
          "output_type": "stream",
          "text": [
            "In June<br />I saw a charming group<br />of roses all begin<br />to droop<br />I pepped them up<br />with chicken soup!<br />Sprinkle once<br />sprinkle twice<br />sprinkle chicken soup<br />with rice<br /><br />This is a great book to teach children the months of the year. The repetition of the phrases and the funny little stories with accompanying pictures make for an ideal bedtime read. This isn't nearly as good as some of Sendak's other books (like Where the Wild Things are or Pierre: The Boy Who Didn't Care), but it still carries his unique brand of charm.\n"
          ],
          "name": "stdout"
        }
      ]
    },
    {
      "cell_type": "code",
      "metadata": {
        "id": "ecpP4gQpavUd",
        "colab_type": "code",
        "outputId": "b7d48c93-a824-42ff-ec63-90991acf0c1f",
        "colab": {
          "base_uri": "https://localhost:8080/",
          "height": 158
        }
      },
      "source": [
        "# https://stackoverflow.com/questions/16206380/python-beautifulsoup-how-to-remove-all-tags-from-an-element\n",
        "from bs4 import BeautifulSoup\n",
        "\n",
        "soup = BeautifulSoup(sent_0, 'lxml')\n",
        "text = soup.get_text()\n",
        "print(text)\n",
        "print(\"=\"*50)\n",
        "\n",
        "soup = BeautifulSoup(sent_1000, 'lxml')\n",
        "text = soup.get_text()\n",
        "print(text)\n",
        "print(\"=\"*50)\n",
        "\n",
        "soup = BeautifulSoup(sent_1500, 'lxml')\n",
        "text = soup.get_text()\n",
        "print(text)\n",
        "print(\"=\"*50)\n",
        "\n",
        "soup = BeautifulSoup(sent_4900, 'lxml')\n",
        "text = soup.get_text()\n",
        "print(text)"
      ],
      "execution_count": 0,
      "outputs": [
        {
          "output_type": "stream",
          "text": [
            "In JuneI saw a charming groupof roses all beginto droopI pepped them upwith chicken soup!Sprinkle oncesprinkle twicesprinkle chicken soupwith riceThis is a great book to teach children the months of the year. The repetition of the phrases and the funny little stories with accompanying pictures make for an ideal bedtime read. This isn't nearly as good as some of Sendak's other books (like Where the Wild Things are or Pierre: The Boy Who Didn't Care), but it still carries his unique brand of charm.\n",
            "==================================================\n",
            "Its a great snack for icecream lovers who have teeth sensitve to cold.All the flavor u want and no mater how much or fast u eat no brain frezze.I found it best when its cold out side i can still have my icecream and not fell like im frezzing.Its a great value price /per product. And has a long shelf life making it a good survival snack.\n",
            "==================================================\n",
            "My cat loves these bubbles. All I have to say is \"Do you want bubbles?\" and she comes running out from wherever she may be hiding. She meows and pounces on the bubbles. I am giving them a rating of 4 though because they smell horrible. If they drip on anything white it will turn green, but can easily be cleaned with some water and a sponge!!!!\n",
            "==================================================\n",
            "WOW, this is super spicy.  I usually like a kick to my food but wow, literally 2 drops keeps my mouth on fire throughout the meal.  It's a great prank to use on people at BBQ's (as long as they can take a joke) and is a great attention grabber at the office.  Over the past few months I've owned, I barely used 20% of the bottle.  I would definitely recommend if you like the extra \"umph\" in your food or just a morning wake up!\n"
          ],
          "name": "stdout"
        }
      ]
    },
    {
      "cell_type": "code",
      "metadata": {
        "id": "nxXH4lpWaxvz",
        "colab_type": "code",
        "colab": {}
      },
      "source": [
        "# https://stackoverflow.com/a/47091490/4084039\n",
        "import re\n",
        "\n",
        "def decontracted(phrase):\n",
        "    # specific\n",
        "    phrase = re.sub(r\"won't\", \"will not\", phrase)\n",
        "    phrase = re.sub(r\"can\\'t\", \"can not\", phrase)\n",
        "\n",
        "    # general\n",
        "    phrase = re.sub(r\"n\\'t\", \" not\", phrase)\n",
        "    phrase = re.sub(r\"\\'re\", \" are\", phrase)\n",
        "    phrase = re.sub(r\"\\'s\", \" is\", phrase)\n",
        "    phrase = re.sub(r\"\\'d\", \" would\", phrase)\n",
        "    phrase = re.sub(r\"\\'ll\", \" will\", phrase)\n",
        "    phrase = re.sub(r\"\\'t\", \" not\", phrase)\n",
        "    phrase = re.sub(r\"\\'ve\", \" have\", phrase)\n",
        "    phrase = re.sub(r\"\\'m\", \" am\", phrase)\n",
        "    return phrase"
      ],
      "execution_count": 0,
      "outputs": []
    },
    {
      "cell_type": "code",
      "metadata": {
        "id": "RiflveSJa0Ek",
        "colab_type": "code",
        "outputId": "91c38f31-1a75-4a36-c817-7cddbe9e824c",
        "colab": {
          "base_uri": "https://localhost:8080/",
          "height": 72
        }
      },
      "source": [
        "sent_1500 = decontracted(sent_1500)\n",
        "print(sent_1500)\n",
        "print(\"=\"*50)"
      ],
      "execution_count": 0,
      "outputs": [
        {
          "output_type": "stream",
          "text": [
            "My cat loves these bubbles. All I have to say is \"Do you want bubbles?\" and she comes running out from wherever she may be hiding. She meows and pounces on the bubbles. I am giving them a rating of 4 though because they smell horrible. If they drip on anything white it will turn green, but can easily be cleaned with some water and a sponge!!!!\n",
            "==================================================\n"
          ],
          "name": "stdout"
        }
      ]
    },
    {
      "cell_type": "code",
      "metadata": {
        "id": "DGKDLG9_a2C8",
        "colab_type": "code",
        "outputId": "119813ec-33a8-44c2-8755-10b3228214a8",
        "colab": {
          "base_uri": "https://localhost:8080/",
          "height": 54
        }
      },
      "source": [
        "#remove words with numbers python: https://stackoverflow.com/a/18082370/4084039\n",
        "sent_0 = re.sub(\"\\S*\\d\\S*\", \"\", sent_0).strip()\n",
        "print(sent_0)"
      ],
      "execution_count": 0,
      "outputs": [
        {
          "output_type": "stream",
          "text": [
            "In June<br />I saw a charming group<br />of roses all begin<br />to droop<br />I pepped them up<br />with chicken soup!<br />Sprinkle once<br />sprinkle twice<br />sprinkle chicken soup<br />with rice<br /><br />This is a great book to teach children the months of the year. The repetition of the phrases and the funny little stories with accompanying pictures make for an ideal bedtime read. This isn't nearly as good as some of Sendak's other books (like Where the Wild Things are or Pierre: The Boy Who Didn't Care), but it still carries his unique brand of charm.\n"
          ],
          "name": "stdout"
        }
      ]
    },
    {
      "cell_type": "code",
      "metadata": {
        "id": "tUy2IWaJa4hg",
        "colab_type": "code",
        "outputId": "e5c433e5-4263-4d97-e4a7-1d57eb092a50",
        "colab": {
          "base_uri": "https://localhost:8080/",
          "height": 54
        }
      },
      "source": [
        "#remove spacial character: https://stackoverflow.com/a/5843547/4084039\n",
        "sent_1500 = re.sub('[^A-Za-z0-9]+', ' ', sent_1500)\n",
        "print(sent_1500)"
      ],
      "execution_count": 0,
      "outputs": [
        {
          "output_type": "stream",
          "text": [
            "My cat loves these bubbles All I have to say is Do you want bubbles and she comes running out from wherever she may be hiding She meows and pounces on the bubbles I am giving them a rating of 4 though because they smell horrible If they drip on anything white it will turn green but can easily be cleaned with some water and a sponge \n"
          ],
          "name": "stdout"
        }
      ]
    },
    {
      "cell_type": "code",
      "metadata": {
        "id": "X4-sULZ9a7uf",
        "colab_type": "code",
        "colab": {}
      },
      "source": [
        "# https://gist.github.com/sebleier/554280\n",
        "# we are removing the words from the stop words list: 'no', 'nor', 'not'\n",
        "# <br /><br /> ==> after the above steps, we are getting \"br br\"\n",
        "# we are including them into stop words list\n",
        "# instead of <br /> if we have <br/> these tags would have revmoved in the 1st step\n",
        "\n",
        "stopwords= set(['br', 'the', 'i', 'me', 'my', 'myself', 'we', 'our', 'ours', 'ourselves', 'you', \"you're\", \"you've\",\\\n",
        "            \"you'll\", \"you'd\", 'your', 'yours', 'yourself', 'yourselves', 'he', 'him', 'his', 'himself', \\\n",
        "            'she', \"she's\", 'her', 'hers', 'herself', 'it', \"it's\", 'its', 'itself', 'they', 'them', 'their',\\\n",
        "            'theirs', 'themselves', 'what', 'which', 'who', 'whom', 'this', 'that', \"that'll\", 'these', 'those', \\\n",
        "            'am', 'is', 'are', 'was', 'were', 'be', 'been', 'being', 'have', 'has', 'had', 'having', 'do', 'does', \\\n",
        "            'did', 'doing', 'a', 'an', 'the', 'and', 'but', 'if', 'or', 'because', 'as', 'until', 'while', 'of', \\\n",
        "            'at', 'by', 'for', 'with', 'about', 'against', 'between', 'into', 'through', 'during', 'before', 'after',\\\n",
        "            'above', 'below', 'to', 'from', 'up', 'down', 'in', 'out', 'on', 'off', 'over', 'under', 'again', 'further',\\\n",
        "            'then', 'once', 'here', 'there', 'when', 'where', 'why', 'how', 'all', 'any', 'both', 'each', 'few', 'more',\\\n",
        "            'most', 'other', 'some', 'such', 'only', 'own', 'same', 'so', 'than', 'too', 'very', \\\n",
        "            's', 't', 'can', 'will', 'just', 'don', \"don't\", 'should', \"should've\", 'now', 'd', 'll', 'm', 'o', 're', \\\n",
        "            've', 'y', 'ain', 'aren', \"aren't\", 'couldn', \"couldn't\", 'didn', \"didn't\", 'doesn', \"doesn't\", 'hadn',\\\n",
        "            \"hadn't\", 'hasn', \"hasn't\", 'haven', \"haven't\", 'isn', \"isn't\", 'ma', 'mightn', \"mightn't\", 'mustn',\\\n",
        "            \"mustn't\", 'needn', \"needn't\", 'shan', \"shan't\", 'shouldn', \"shouldn't\", 'wasn', \"wasn't\", 'weren', \"weren't\", \\\n",
        "            'won', \"won't\", 'wouldn', \"wouldn't\"])"
      ],
      "execution_count": 0,
      "outputs": []
    },
    {
      "cell_type": "code",
      "metadata": {
        "id": "8epbyGVka-i-",
        "colab_type": "code",
        "outputId": "d2d47a6b-6f61-446e-b368-205444029a24",
        "colab": {
          "base_uri": "https://localhost:8080/",
          "height": 34
        }
      },
      "source": [
        "# Combining all the above stundents \n",
        "from tqdm import tqdm\n",
        "preprocessed_reviews = []\n",
        "# tqdm is for printing the status bar\n",
        "for sentance in tqdm(final['Text'].values):\n",
        "    sentance = re.sub(r\"http\\S+\", \"\", sentance)\n",
        "    sentance = BeautifulSoup(sentance, 'lxml').get_text()\n",
        "    sentance = decontracted(sentance)\n",
        "    sentance = re.sub(\"\\S*\\d\\S*\", \"\", sentance).strip()\n",
        "    sentance = re.sub('[^A-Za-z]+', ' ', sentance)\n",
        "    # https://gist.github.com/sebleier/554280\n",
        "    sentance = ' '.join(e.lower() for e in sentance.split() if e.lower() not in stopwords)\n",
        "    preprocessed_reviews.append(sentance.strip())"
      ],
      "execution_count": 0,
      "outputs": [
        {
          "output_type": "stream",
          "text": [
            "100%|██████████| 393931/393931 [02:06<00:00, 3111.84it/s]\n"
          ],
          "name": "stderr"
        }
      ]
    },
    {
      "cell_type": "code",
      "metadata": {
        "id": "TZVoXXOZbMY7",
        "colab_type": "code",
        "outputId": "7738bea2-41bd-423b-a312-2b7df6619099",
        "colab": {
          "base_uri": "https://localhost:8080/",
          "height": 86
        }
      },
      "source": [
        "final['CleanedText']=preprocessed_reviews\n",
        "#adding a column of CleanedText which displays the data after pre-processing of the review \n",
        "Pre_Process_Data = final[['CleanedText','Score','Time']] \n",
        "\n",
        "X_Text=Pre_Process_Data ['CleanedText']\n",
        "\n",
        "Y_Score =Pre_Process_Data ['Score'] # positive or negative score\n",
        "print('\\nPre_Process_Text_Data  X_Text=',X_Text.shape)\n",
        "print('\\nPre_Process_Score_Data Y_Score=',Y_Score.shape)"
      ],
      "execution_count": 0,
      "outputs": [
        {
          "output_type": "stream",
          "text": [
            "\n",
            "Pre_Process_Text_Data  X_Text= (393931,)\n",
            "\n",
            "Pre_Process_Score_Data Y_Score= (393931,)\n"
          ],
          "name": "stdout"
        }
      ]
    },
    {
      "cell_type": "code",
      "metadata": {
        "id": "IWPB_POrbSnZ",
        "colab_type": "code",
        "outputId": "553a2ecf-05e1-42aa-e63d-816ab85dede6",
        "colab": {
          "base_uri": "https://localhost:8080/",
          "height": 86
        }
      },
      "source": [
        "# postive and negtive reviews from original datasets of amazon\n",
        "pos_final = Pre_Process_Data[Pre_Process_Data .Score == 'positive']# postive reviews\n",
        "pos_final = pos_final.sample(frac=0.3)\n",
        "print(pos_final.Score.value_counts())\n",
        "\n",
        "neg_final = Pre_Process_Data [Pre_Process_Data .Score == 'negative'] # negative reviews\n",
        "print(neg_final.Score.value_counts())"
      ],
      "execution_count": 0,
      "outputs": [
        {
          "output_type": "stream",
          "text": [
            "positive    101047\n",
            "Name: Score, dtype: int64\n",
            "negative    57107\n",
            "Name: Score, dtype: int64\n"
          ],
          "name": "stdout"
        }
      ]
    },
    {
      "cell_type": "code",
      "metadata": {
        "id": "y6SSaeHBbZKl",
        "colab_type": "code",
        "outputId": "e1a2cb9c-4b2d-462d-be14-b8e1c33c354e",
        "colab": {
          "base_uri": "https://localhost:8080/",
          "height": 52
        }
      },
      "source": [
        "final_pos_neg = pd.concat([pos_final,neg_final],axis=0)\n",
        "print(len(final_pos_neg))\n",
        "print(type(final_pos_neg))"
      ],
      "execution_count": 0,
      "outputs": [
        {
          "output_type": "stream",
          "text": [
            "158154\n",
            "<class 'pandas.core.frame.DataFrame'>\n"
          ],
          "name": "stdout"
        }
      ]
    },
    {
      "cell_type": "code",
      "metadata": {
        "id": "MrmLQ16HbdLZ",
        "colab_type": "code",
        "outputId": "3d38cb4e-c042-4807-eadf-a16a73bfa1db",
        "colab": {
          "base_uri": "https://localhost:8080/",
          "height": 34
        }
      },
      "source": [
        "print(final_pos_neg.columns)"
      ],
      "execution_count": 0,
      "outputs": [
        {
          "output_type": "stream",
          "text": [
            "Index(['CleanedText', 'Score', 'Time'], dtype='object')\n"
          ],
          "name": "stdout"
        }
      ]
    },
    {
      "cell_type": "code",
      "metadata": {
        "id": "RZzE-lPGbgDv",
        "colab_type": "code",
        "colab": {}
      },
      "source": [
        ""
      ],
      "execution_count": 0,
      "outputs": []
    },
    {
      "cell_type": "markdown",
      "metadata": {
        "id": "J_M9KG8N6lj-",
        "colab_type": "text"
      },
      "source": [
        "#### Unix timestamp\n",
        "The column Time is based on unix timestamp.The unix time stamp is a way to track time as a running total of seconds and In time technically does not change no matter where you are located on the globe. This is very useful to computer systems for tracking and sorting dated information in dynamic and distributed applications both online and client side. https://www.unixtimestamp.com/\n",
        "\n",
        "So here,time conversion is not necessary to process on amazon data.But following code will describe the date and time for human consideration.Time data is arranged according to year-month-day-hours-minute-seconds in descending order ."
      ]
    },
    {
      "cell_type": "markdown",
      "metadata": {
        "id": "TYJjCyHEbgc6",
        "colab_type": "text"
      },
      "source": [
        "# Splitting Training and Testing dataset based on Time"
      ]
    },
    {
      "cell_type": "code",
      "metadata": {
        "id": "mr0LT0zgbig-",
        "colab_type": "code",
        "outputId": "52827e72-ed31-4f22-86b3-c5709ba3039f",
        "colab": {
          "base_uri": "https://localhost:8080/",
          "height": 138
        }
      },
      "source": [
        "# splitting training and testing dataset (Time based splitting)\n",
        "\n",
        "#final_pos_neg= final_pos_neg.sample(frac=0.07,random_state=1)\n",
        "X1 = final_pos_neg[['CleanedText','Time']].sort_values('Time',axis=0).drop('Time',axis=1)\n",
        "#50k data sample\n",
        "X=X1[:40000]\n",
        "print(X.shape)\n",
        "Y1 = final_pos_neg[['Score','Time']].sort_values('Time',axis=0).drop('Time',axis=1)\n",
        "#50k data sample\n",
        "Y=Y1[:40000]\n",
        "Y = Y['Score'].map(lambda x: 1 if x == 'positive' else 0).values\n",
        "print(Y.shape)\n",
        "## 70 % of data\n",
        "tt =math.ceil(len(X)*.7)\n",
        "print(tt)\n",
        "\n",
        "X_train_data =  X[:tt] \n",
        "X_train_data  = X_train_data\n",
        "print('X_train_data ',X_train_data.shape)\n",
        "X_test_data = X[tt:]\n",
        "X_test_data = X_test_data\n",
        "print('X_test_data ',X_test_data.shape )\n",
        "Y_train_data = Y[:tt]\n",
        "Y_train_data  = Y_train_data\n",
        "print('Y_train_data ',Y_train_data.shape )\n",
        "Y_test_data = Y[tt:]\n",
        "Y_test_data= Y_test_data\n",
        "print('Y_test_data ',Y_test_data .shape)"
      ],
      "execution_count": 0,
      "outputs": [
        {
          "output_type": "stream",
          "text": [
            "(40000, 1)\n",
            "(40000,)\n",
            "28000\n",
            "X_train_data  (28000, 1)\n",
            "X_test_data  (12000, 1)\n",
            "Y_train_data  (28000,)\n",
            "Y_test_data  (12000,)\n"
          ],
          "name": "stdout"
        }
      ]
    },
    {
      "cell_type": "markdown",
      "metadata": {
        "id": "I80AgYXSb0zC",
        "colab_type": "text"
      },
      "source": [
        "# Optimal Lambda for Logistic Regression"
      ]
    },
    {
      "cell_type": "code",
      "metadata": {
        "id": "oJQFdPnab--i",
        "colab_type": "code",
        "outputId": "92ffb94e-9d3b-4d33-a08b-a09c65add7ad",
        "colab": {
          "base_uri": "https://localhost:8080/",
          "height": 65
        }
      },
      "source": [
        "models_performence = {\n",
        "    'Model':[],\n",
        "    'Vectorizer': [],\n",
        "    'SearchCV':[],\n",
        "    'Scoring Metrics': [],\n",
        "    'Train_model_score': [],\n",
        "    'Test_model_score': [],\n",
        "    'best panalty': [],\n",
        "    'Best lambda':[],\n",
        "}\n",
        "\n",
        "columns = [\"Model\",\"Vectorizer\",\"SearchCV\", \"Scoring Metrics\",\"Train_model_score\",\"Test_model_score\", \"best panalty\",\"Best lambda\"]\n",
        "print(len(columns))\n",
        "pd.DataFrame(models_performence, columns=columns)"
      ],
      "execution_count": 0,
      "outputs": [
        {
          "output_type": "stream",
          "text": [
            "8\n"
          ],
          "name": "stdout"
        },
        {
          "output_type": "execute_result",
          "data": {
            "text/html": [
              "<div>\n",
              "<style scoped>\n",
              "    .dataframe tbody tr th:only-of-type {\n",
              "        vertical-align: middle;\n",
              "    }\n",
              "\n",
              "    .dataframe tbody tr th {\n",
              "        vertical-align: top;\n",
              "    }\n",
              "\n",
              "    .dataframe thead th {\n",
              "        text-align: right;\n",
              "    }\n",
              "</style>\n",
              "<table border=\"1\" class=\"dataframe\">\n",
              "  <thead>\n",
              "    <tr style=\"text-align: right;\">\n",
              "      <th></th>\n",
              "      <th>Model</th>\n",
              "      <th>Vectorizer</th>\n",
              "      <th>SearchCV</th>\n",
              "      <th>Scoring Metrics</th>\n",
              "      <th>Train_model_score</th>\n",
              "      <th>Test_model_score</th>\n",
              "      <th>best panalty</th>\n",
              "      <th>Best lambda</th>\n",
              "    </tr>\n",
              "  </thead>\n",
              "  <tbody>\n",
              "  </tbody>\n",
              "</table>\n",
              "</div>"
            ],
            "text/plain": [
              "Empty DataFrame\n",
              "Columns: [Model, Vectorizer, SearchCV, Scoring Metrics, Train_model_score, Test_model_score, best panalty, Best lambda]\n",
              "Index: []"
            ]
          },
          "metadata": {
            "tags": []
          },
          "execution_count": 27
        }
      ]
    },
    {
      "cell_type": "code",
      "metadata": {
        "id": "n_evvfl7b1jX",
        "colab_type": "code",
        "colab": {}
      },
      "source": [
        "# Time seris splitting Cross-Validation\n",
        "tscv = TimeSeriesSplit(n_splits=10)"
      ],
      "execution_count": 0,
      "outputs": []
    },
    {
      "cell_type": "code",
      "metadata": {
        "id": "GTjsJTaKo_kC",
        "colab_type": "code",
        "colab": {}
      },
      "source": [
        "#  lambda_LR is function to calculate the lambda value using'L2' for Logistic Regression\n",
        "def lambda_LR1(X_train,y_train,X_test, y_test,vectorization):\n",
        "    #  regularization penalty space\n",
        "    penalty = ['l2']\n",
        "    #  regularization hyperparameter distribution using uniform distribution\n",
        "    C1 = uniform(loc=0, scale=4)\n",
        "    C = np.logspace(0, 4, 10)\n",
        "    #  hyperparameter options\n",
        "    hp1 =dict(C=C, penalty=penalty)\n",
        "    hp = dict(C=C1, penalty=penalty)\n",
        "    # Scoring options\n",
        "    d = ['accuracy','precision','recall','f1'] \n",
        "    \n",
        "    for i in range(len(d)):\n",
        "        models_performence['Model'].append('Logistic Regression')\n",
        "        models_performence['Vectorizer'].append(vectorization)\n",
        "        models_performence['SearchCV'].append('GridSearchCV')\n",
        "        #print('for GridSearchCV') \n",
        "        p = d[i]\n",
        "        models_performence['Scoring Metrics'].append(p)\n",
        "        model1 = GridSearchCV(LogisticRegression(), hp1, scoring = p, cv=tscv,n_jobs= -1)\n",
        "        best_model1=model1.fit(X_train, y_train)\n",
        "        \n",
        "        Test_model_score=model1.score(X_test, y_test)\n",
        "        Train_model_score=model1.score(X_train, y_train)\n",
        "        models_performence['Train_model_score'].append(Train_model_score.mean())\n",
        "        models_performence['Test_model_score'].append(Test_model_score.mean())\n",
        "        \n",
        "        #Reg1=best_model1.best_estimator_.get_params()['penalty']\n",
        "       \n",
        "        models_performence['best panalty'].append('l2')\n",
        "        optimal_l1=best_model1.best_estimator_.get_params()['C']\n",
        "        \n",
        "        models_performence['Best lambda'].append(optimal_l1)\n",
        "        \n",
        "        \n",
        "        \n",
        "        #print('For RandomsearchCV')\n",
        "        models_performence['Model'].append('Logistic Regression')\n",
        "        models_performence['Vectorizer'].append(vectorization)\n",
        "        \n",
        "        models_performence['SearchCV'].append('RandomsearchCV')\n",
        "        \n",
        "        model2 = RandomizedSearchCV(LogisticRegression(),hp,scoring = p, cv=tscv,n_jobs= -1)\n",
        "        # Fit randomized search\n",
        "        best_model2 = model2.fit(X_train,y_train)\n",
        "        \n",
        "        models_performence['Scoring Metrics'].append(p)\n",
        "        #print(model2.best_estimator_)\n",
        "        Test_model_score2=model2.score(X_test, y_test)\n",
        "        Train_model_score=model2.score(X_train, y_train)\n",
        "        models_performence['Train_model_score'].append(Train_model_score.mean())\n",
        "       \n",
        "        models_performence['Test_model_score'].append(Test_model_score2.mean())\n",
        "        #Reg2=best_model2.best_estimator_.get_params()['penalty']\n",
        "        \n",
        "        models_performence['best panalty'].append('l2')\n",
        "        optimal_l2=best_model2.best_estimator_.get_params()['C']\n",
        "       \n",
        "        \n",
        "        models_performence['Best lambda'].append(optimal_l2)"
      ],
      "execution_count": 0,
      "outputs": []
    },
    {
      "cell_type": "markdown",
      "metadata": {
        "id": "U4MzMpnepOKA",
        "colab_type": "text"
      },
      "source": [
        "## lambda_LR\n",
        "lambda_LR is function to calculate the optimal lambda value for Logistic Regression.\n",
        "GridsearchCV and RandomsearchCV method are used to obtain optimal lambda with L2 penality,different scoring options(e.g,accuracy,precision,recall and F1-score) and broad range of lambda.\n",
        "Best parameter lambda and penalty for which model performs very well is obatained."
      ]
    },
    {
      "cell_type": "markdown",
      "metadata": {
        "id": "XxQIlrIEpXyC",
        "colab_type": "text"
      },
      "source": [
        "### Pandas dataframe to markdown Table format"
      ]
    },
    {
      "cell_type": "code",
      "metadata": {
        "id": "Q9TKIno_pKyp",
        "colab_type": "code",
        "colab": {}
      },
      "source": [
        "# result_display  is function to convert dataframe into table format in Markdown\n",
        "def result_display(df):\n",
        "    writer = pytablewriter.MarkdownTableWriter()\n",
        "    #writer.table_name = name\n",
        "    writer.header_list = list(df.columns.values)\n",
        "    writer.value_matrix = df.values.tolist()\n",
        "    writer.write_table()"
      ],
      "execution_count": 0,
      "outputs": []
    },
    {
      "cell_type": "markdown",
      "metadata": {
        "id": "qRCuYGBupkEp",
        "colab_type": "text"
      },
      "source": [
        "### Methods to convert text into vector\n",
        "Methods:\n",
        "\n",
        "* Bag of Words\n",
        "\n",
        "* Tf-idf\n",
        "\n",
        "Using above four method is used to convert text to numeric vector"
      ]
    },
    {
      "cell_type": "markdown",
      "metadata": {
        "id": "h0_p5U_SptE-",
        "colab_type": "text"
      },
      "source": [
        "# 1. Bag of Words (BoW)\n",
        "\n",
        "The bag-of-words model is a way of representing text data when modeling text with machine learning algorithms.\n",
        "\n",
        "The bag-of-words model is simple to understand and implement and has seen great success in problems such as language modeling and document classification.\n",
        "What is a Bag-of-Words?\n",
        "A bag-of-words model, or BoW for short, is a way of extracting features from text for use in modeling, such as with machine learning algorithms.\n",
        "\n",
        "The approach is very simple and flexible, and can be used in a myriad of ways for extracting features from documents.\n",
        "\n",
        "A bag-of-words is a representation of text that describes the occurrence of words within a document. It involves two things:\n",
        "\n",
        "A vocabulary of known words.\n",
        "A measure of the presence of known words.\n",
        "It is called a “bag” of words, because any information about the order or structure of words in the document is discarded. The model is only concerned with whether known words occur in the document, not where in the document.\n",
        "\n",
        "The bag-of-words can be as simple or complex as you like. The complexity comes both in deciding how to design the vocabulary of known words (or tokens) and how to score the presence of known words."
      ]
    },
    {
      "cell_type": "markdown",
      "metadata": {
        "id": "Fpm58zWipyjn",
        "colab_type": "text"
      },
      "source": [
        "### BOW for Training Data"
      ]
    },
    {
      "cell_type": "code",
      "metadata": {
        "id": "ytfgDsRxpdK_",
        "colab_type": "code",
        "colab": {}
      },
      "source": [
        "count_vect = CountVectorizer() #in scikit-learn"
      ],
      "execution_count": 0,
      "outputs": []
    },
    {
      "cell_type": "code",
      "metadata": {
        "id": "yHJ2dnKHp23S",
        "colab_type": "code",
        "outputId": "95558ef5-9df0-4dee-e74f-eb3fc8c00dd5",
        "colab": {
          "base_uri": "https://localhost:8080/",
          "height": 34
        }
      },
      "source": [
        "#vector of train data\n",
        "data = count_vect.fit_transform(X_train_data.values.astype('U').ravel())\n",
        "data.get_shape()\n",
        "\n",
        "final_data = StandardScaler(with_mean=False).fit_transform(data )\n",
        "print(final_data.shape)"
      ],
      "execution_count": 0,
      "outputs": [
        {
          "output_type": "stream",
          "text": [
            "(28000, 32891)\n"
          ],
          "name": "stdout"
        }
      ]
    },
    {
      "cell_type": "markdown",
      "metadata": {
        "id": "3R5r4bUtqAqv",
        "colab_type": "text"
      },
      "source": [
        "### BOW for Testing Data"
      ]
    },
    {
      "cell_type": "code",
      "metadata": {
        "id": "8odoQVX0p624",
        "colab_type": "code",
        "outputId": "da09cb02-b3e4-44c0-f7d8-4f91d00aa406",
        "colab": {
          "base_uri": "https://localhost:8080/",
          "height": 34
        }
      },
      "source": [
        "final_data1=count_vect.transform(X_test_data.values.ravel())\n",
        "#print(final_data1)\n",
        "final_data_test = StandardScaler(with_mean=False).fit_transform(final_data1)\n",
        "print(final_data_test.shape)"
      ],
      "execution_count": 0,
      "outputs": [
        {
          "output_type": "stream",
          "text": [
            "(12000, 32891)\n"
          ],
          "name": "stdout"
        }
      ]
    },
    {
      "cell_type": "markdown",
      "metadata": {
        "id": "bjl1lStuqKyD",
        "colab_type": "text"
      },
      "source": [
        "Featured data of Bag of words is Standardization (mean=0 and std.dev=1)."
      ]
    },
    {
      "cell_type": "code",
      "metadata": {
        "id": "vLHQR6bqqFpx",
        "colab_type": "code",
        "outputId": "8715b507-5861-4bd0-bfc9-3fd8a85cf163",
        "colab": {
          "base_uri": "https://localhost:8080/",
          "height": 34
        }
      },
      "source": [
        "Train_data=Y_train_data\n",
        "print(Train_data.shape)"
      ],
      "execution_count": 0,
      "outputs": [
        {
          "output_type": "stream",
          "text": [
            "(28000,)\n"
          ],
          "name": "stdout"
        }
      ]
    },
    {
      "cell_type": "markdown",
      "metadata": {
        "id": "66PtclGgqdVq",
        "colab_type": "text"
      },
      "source": [
        "## Optimal lambda using BOW (l2 regularization)"
      ]
    },
    {
      "cell_type": "code",
      "metadata": {
        "id": "Mx74X9DxqO7t",
        "colab_type": "code",
        "colab": {}
      },
      "source": [
        "# To get optimal lambda using BOW\n",
        "\n",
        "vectorization='BOW'\n",
        "optimal_lambda = lambda_LR1(final_data ,Train_data,final_data_test,Y_test_data,vectorization )"
      ],
      "execution_count": 0,
      "outputs": []
    },
    {
      "cell_type": "code",
      "metadata": {
        "id": "0cd3oAAeqiit",
        "colab_type": "code",
        "outputId": "dd7733c8-f20e-4ab1-942e-bf5311ebc673",
        "colab": {
          "base_uri": "https://localhost:8080/",
          "height": 34
        }
      },
      "source": [
        "columns = [\"Model\",\"Vectorizer\",\"SearchCV\", \"Scoring Metrics\",\"Train_model_score\", \"Test_model_score\", \"best panalty\",\"Best lambda\"]\n",
        "print(len(columns))\n",
        "df=pd.DataFrame(models_performence, columns=columns)"
      ],
      "execution_count": 0,
      "outputs": [
        {
          "output_type": "stream",
          "text": [
            "8\n"
          ],
          "name": "stdout"
        }
      ]
    },
    {
      "cell_type": "code",
      "metadata": {
        "id": "7pQ8WqiQq4W3",
        "colab_type": "code",
        "outputId": "9831ae9b-5d17-470a-e106-e22a02982d6c",
        "colab": {
          "base_uri": "https://localhost:8080/",
          "height": 190
        }
      },
      "source": [
        "result_display(df)"
      ],
      "execution_count": 0,
      "outputs": [
        {
          "output_type": "stream",
          "text": [
            "|       Model       |Vectorizer|   SearchCV   |Scoring Metrics|Train_model_score|Test_model_score|best panalty|Best lambda|\n",
            "|-------------------|----------|--------------|---------------|----------------:|---------------:|------------|----------:|\n",
            "|Logistic Regression|BOW       |GridSearchCV  |accuracy       |           0.9988|          0.7954|l2          |      1.000|\n",
            "|Logistic Regression|BOW       |RandomsearchCV|accuracy       |           0.9988|          0.7935|l2          |      1.464|\n",
            "|Logistic Regression|BOW       |GridSearchCV  |precision      |           0.9983|          0.8430|l2          |      1.000|\n",
            "|Logistic Regression|BOW       |RandomsearchCV|precision      |           0.9983|          0.8435|l2          |      0.712|\n",
            "|Logistic Regression|BOW       |GridSearchCV  |recall         |           0.9999|          0.8558|l2          |      1.000|\n",
            "|Logistic Regression|BOW       |RandomsearchCV|recall         |           0.9999|          0.8589|l2          |      0.535|\n",
            "|Logistic Regression|BOW       |GridSearchCV  |f1             |           0.9991|          0.8494|l2          |      1.000|\n",
            "|Logistic Regression|BOW       |RandomsearchCV|f1             |           0.9968|          0.8659|l2          |      0.041|\n"
          ],
          "name": "stdout"
        }
      ]
    },
    {
      "cell_type": "markdown",
      "metadata": {
        "id": "tdKUXjtzrAa4",
        "colab_type": "text"
      },
      "source": [
        "Above table describes the performance of model with different scoring techniques and regularization techniques with best Cross-validation search techniques.\n",
        "\n",
        "\n",
        "\n",
        "\n",
        "### GridSearchCV with L2 regularization (BOW)"
      ]
    },
    {
      "cell_type": "code",
      "metadata": {
        "id": "ycBYszazrjf3",
        "colab_type": "code",
        "outputId": "f03de457-9ddf-4ae8-9ed4-4eedb5c2de24",
        "colab": {
          "base_uri": "https://localhost:8080/",
          "height": 173
        }
      },
      "source": [
        "df=pd.DataFrame(models_performence, columns=columns)\n",
        "zx=df[df['best panalty'] == 'l2']\n",
        "zx=zx[zx['SearchCV']=='GridSearchCV']\n",
        "zx= zx.ix[zx['Test_model_score'].idxmax()]\n",
        "print(zx)\n",
        "lambdax=zx['Best lambda']\n",
        "\n",
        "best_panalty=zx['best panalty']\n",
        "\n",
        "Scoring_Metrics =zx['Scoring Metrics']\n",
        "SearchCV=zx['SearchCV']\n",
        "#print(SearchCV)"
      ],
      "execution_count": 0,
      "outputs": [
        {
          "output_type": "stream",
          "text": [
            "Model                Logistic Regression\n",
            "Vectorizer                           BOW\n",
            "SearchCV                    GridSearchCV\n",
            "Scoring Metrics                   recall\n",
            "Train_model_score                0.99995\n",
            "Test_model_score                0.855836\n",
            "best panalty                          l2\n",
            "Best lambda                            1\n",
            "Name: 4, dtype: object\n"
          ],
          "name": "stdout"
        }
      ]
    },
    {
      "cell_type": "code",
      "metadata": {
        "id": "9vivihmHsoLL",
        "colab_type": "code",
        "colab": {}
      },
      "source": [
        "#Best lambda and best penalty\n",
        "hp1=dict(C=[lambdax], penalty=[best_panalty])\n",
        "LR =GridSearchCV(LogisticRegression(), hp1, scoring =Scoring_Metrics, cv=tscv)\n",
        "LR.fit(final_data ,Train_data)\n",
        "\n",
        "prediction1 = LR.predict(final_data_test)"
      ],
      "execution_count": 0,
      "outputs": []
    },
    {
      "cell_type": "code",
      "metadata": {
        "id": "QQUCwkyHsq1l",
        "colab_type": "code",
        "outputId": "995e15a9-619a-4380-a858-016dfaaa594a",
        "colab": {
          "base_uri": "https://localhost:8080/",
          "height": 52
        }
      },
      "source": [
        "#Training accuracy and training error\n",
        "training_score=LR.score(final_data,Train_data)\n",
        "print('training accuracy=',training_score)\n",
        "training_error=1-training_score\n",
        "print('training error is =',training_error)"
      ],
      "execution_count": 0,
      "outputs": [
        {
          "output_type": "stream",
          "text": [
            "training accuracy= 0.999949634852682\n",
            "training error is = 5.036514731804331e-05\n"
          ],
          "name": "stdout"
        }
      ]
    },
    {
      "cell_type": "code",
      "metadata": {
        "id": "SkW56rnzstvA",
        "colab_type": "code",
        "outputId": "f3423d26-f72e-4ecb-b1e1-96477e48dd3c",
        "colab": {
          "base_uri": "https://localhost:8080/",
          "height": 52
        }
      },
      "source": [
        "\n",
        "# Testing Accuracy and testing error for LogisticRegression model\n",
        "\n",
        "Testing_score=round(accuracy_score(Y_test_data ,prediction1),5)\n",
        "print(\"Accuracy for Logistic Regression model with Bag of words is = \",Testing_score)\n",
        "Testing_error=1-Testing_score\n",
        "print(\"Testing error for Logistic Regression model with Bag of words is = \",Testing_error)"
      ],
      "execution_count": 0,
      "outputs": [
        {
          "output_type": "stream",
          "text": [
            "Accuracy for Logistic Regression model with Bag of words is =  0.79542\n",
            "Testing error for Logistic Regression model with Bag of words is =  0.20457999999999998\n"
          ],
          "name": "stdout"
        }
      ]
    },
    {
      "cell_type": "code",
      "metadata": {
        "id": "47SPgQDnyWvk",
        "colab_type": "code",
        "colab": {}
      },
      "source": [
        "F1_score = round(f1_score(Y_test_data ,prediction1,average='macro'),5)*100\n",
        "recall = round(recall_score(Y_test_data,prediction1,average='macro'),5)*100\n",
        "precision = round(precision_score(Y_test_data ,prediction1,average='macro'),5)*100"
      ],
      "execution_count": 0,
      "outputs": []
    },
    {
      "cell_type": "code",
      "metadata": {
        "id": "JI3nui6SsxCZ",
        "colab_type": "code",
        "outputId": "500fc630-600a-4100-a8e4-d869ad812b97",
        "colab": {
          "base_uri": "https://localhost:8080/",
          "height": 173
        }
      },
      "source": [
        "print(classification_report( Y_test_data,prediction1))"
      ],
      "execution_count": 0,
      "outputs": [
        {
          "output_type": "stream",
          "text": [
            "              precision    recall  f1-score   support\n",
            "\n",
            "           0       0.69      0.67      0.68      3912\n",
            "           1       0.84      0.86      0.85      8088\n",
            "\n",
            "    accuracy                           0.80     12000\n",
            "   macro avg       0.77      0.76      0.77     12000\n",
            "weighted avg       0.79      0.80      0.79     12000\n",
            "\n"
          ],
          "name": "stdout"
        }
      ]
    },
    {
      "cell_type": "code",
      "metadata": {
        "id": "UZ-t3gndtjKx",
        "colab_type": "code",
        "outputId": "3440d039-25aa-49b8-d249-f134ca577c6d",
        "colab": {
          "base_uri": "https://localhost:8080/",
          "height": 295
        }
      },
      "source": [
        "cm = confusion_matrix(Y_test_data ,prediction1)\n",
        "label = ['negative', 'positive']\n",
        "df_conf = pd.DataFrame(cm, index = label, columns = label)\n",
        "sns.heatmap(df_conf, annot = True, fmt = \"d\")\n",
        "plt.title(\"Confusiion Matrix\")\n",
        "plt.xlabel(\"Predicted Label\")\n",
        "plt.ylabel(\"True Label\")\n",
        "plt.show()"
      ],
      "execution_count": 0,
      "outputs": [
        {
          "output_type": "display_data",
          "data": {
            "image/png": "[encoded data removed]",
            "text/plain": [
              "<Figure size 432x288 with 2 Axes>"
            ]
          },
          "metadata": {
            "tags": []
          }
        }
      ]
    },
    {
      "cell_type": "code",
      "metadata": {
        "id": "R1SP4Bentl9B",
        "colab_type": "code",
        "colab": {}
      },
      "source": [
        "\n",
        "models_performence1 = {\n",
        "    'Model':['Logistic Regression'],   \n",
        "    'Vectorizer': ['BoW'],\n",
        "    'SearchCV':[SearchCV],\n",
        "    'Best penalty':[best_panalty],\n",
        "    'Optimal lambda': [lambdax],\n",
        "    'Training error':[training_error*100],\n",
        "    'Test error':[Testing_error*100],\n",
        "    'Accuracy':[Testing_score],\n",
        "    'F1':[F1_score],\n",
        "    'recall':[recall],\n",
        "    'precision':[precision]\n",
        "    \n",
        "  \n",
        "}"
      ],
      "execution_count": 0,
      "outputs": []
    },
    {
      "cell_type": "code",
      "metadata": {
        "id": "jgBzZeeFtpS3",
        "colab_type": "code",
        "colab": {}
      },
      "source": [
        "\n",
        "columns = [\"Model\",\"Vectorizer\",\"SearchCV\", \"Best penalty\",\"Optimal lambda\", \"Training error\",  \"Test error\",\n",
        "            \"Accuracy\",\"F1\",\"recall\",\"precision\",\n",
        "          ]\n",
        "df1=pd.DataFrame(models_performence1, columns=columns)"
      ],
      "execution_count": 0,
      "outputs": []
    },
    {
      "cell_type": "code",
      "metadata": {
        "id": "q6ecoJjCtpLP",
        "colab_type": "code",
        "outputId": "4392108a-d8ac-4cea-ec27-c33d02604137",
        "colab": {
          "base_uri": "https://localhost:8080/",
          "height": 69
        }
      },
      "source": [
        "result_display(df1)"
      ],
      "execution_count": 0,
      "outputs": [
        {
          "output_type": "stream",
          "text": [
            "|       Model       |Vectorizer|  SearchCV  |Best penalty|Optimal lambda|Training error|Test error|Accuracy| F1  |recall|precision|\n",
            "|-------------------|----------|------------|------------|-------------:|-------------:|---------:|-------:|----:|-----:|--------:|\n",
            "|Logistic Regression|BoW       |GridSearchCV|l2          |             1|      0.005037|     20.46|  0.7954|76.53| 76.32|    76.76|\n"
          ],
          "name": "stdout"
        }
      ]
    },
    {
      "cell_type": "markdown",
      "metadata": {
        "id": "tjr10Qrvt6nE",
        "colab_type": "text"
      },
      "source": [
        "## RandomsearchCV with L2 regularization (BOW)"
      ]
    },
    {
      "cell_type": "code",
      "metadata": {
        "id": "6HPR0eZetpH5",
        "colab_type": "code",
        "outputId": "1baa800c-d0e3-47b3-c784-e9f6c1c13c61",
        "colab": {
          "base_uri": "https://localhost:8080/",
          "height": 173
        }
      },
      "source": [
        "\n",
        "#RandomsearchCV\n",
        "zx=df[df['best panalty'] == 'l2']\n",
        "zx=zx[zx['SearchCV']=='RandomsearchCV']\n",
        "zx= zx.ix[zx['Test_model_score'].idxmax()]\n",
        "print(zx)\n",
        "lambdax=zx['Best lambda']\n",
        "\n",
        "best_panalty=zx['best panalty']\n",
        "\n",
        "Scoring_Metrics =zx['Scoring Metrics']\n",
        "SearchCV=zx['SearchCV']\n",
        "#print(SearchCV)"
      ],
      "execution_count": 0,
      "outputs": [
        {
          "output_type": "stream",
          "text": [
            "Model                Logistic Regression\n",
            "Vectorizer                           BOW\n",
            "SearchCV                  RandomsearchCV\n",
            "Scoring Metrics                       f1\n",
            "Train_model_score               0.996758\n",
            "Test_model_score                0.865903\n",
            "best panalty                          l2\n",
            "Best lambda                    0.0410138\n",
            "Name: 7, dtype: object\n"
          ],
          "name": "stdout"
        }
      ]
    },
    {
      "cell_type": "code",
      "metadata": {
        "id": "UeUAMD-ctpE1",
        "colab_type": "code",
        "colab": {}
      },
      "source": [
        "#Best lambda and best penalty\n",
        "C1 = uniform(loc=0, scale=lambdax)\n",
        "hp2=dict(C=C1, penalty=[best_panalty])\n",
        "LR2 =RandomizedSearchCV(LogisticRegression(), hp2, scoring =Scoring_Metrics, cv=tscv)\n",
        "LR2.fit(final_data ,Train_data)\n",
        "\n",
        "prediction2 = LR2.predict(final_data_test)\n",
        "lambda_new=LR2.best_params_['C']"
      ],
      "execution_count": 0,
      "outputs": []
    },
    {
      "cell_type": "code",
      "metadata": {
        "id": "9cz2OMYXtpBU",
        "colab_type": "code",
        "outputId": "f208af62-8010-4247-ef17-b80fc9827455",
        "colab": {
          "base_uri": "https://localhost:8080/",
          "height": 52
        }
      },
      "source": [
        "#Training accuracy and training error\n",
        "training_score=LR2.score(final_data,Train_data)\n",
        "print('training accuracy=',training_score)\n",
        "training_error=1-training_score\n",
        "print('training error is =',training_error)"
      ],
      "execution_count": 0,
      "outputs": [
        {
          "output_type": "stream",
          "text": [
            "training accuracy= 0.9901322380284512\n",
            "training error is = 0.009867761971548816\n"
          ],
          "name": "stdout"
        }
      ]
    },
    {
      "cell_type": "code",
      "metadata": {
        "id": "66VNNkrtto81",
        "colab_type": "code",
        "outputId": "c61c1b76-11e7-40f0-9f70-8892b421fc13",
        "colab": {
          "base_uri": "https://localhost:8080/",
          "height": 52
        }
      },
      "source": [
        "# Testing Accuracy and testing error for LogisticRegression model\n",
        "\n",
        "Testing_score=round(accuracy_score(Y_test_data ,prediction2),5)\n",
        "print(\"Accuracy for Logistic Regression model with Bag of words is = \",Testing_score)\n",
        "Testing_error=1-Testing_score\n",
        "print(\"Testing error for Logistic Regression model with Bag of words is = \",Testing_error)"
      ],
      "execution_count": 0,
      "outputs": [
        {
          "output_type": "stream",
          "text": [
            "Accuracy for Logistic Regression model with Bag of words is =  0.83617\n",
            "Testing error for Logistic Regression model with Bag of words is =  0.16383000000000003\n"
          ],
          "name": "stdout"
        }
      ]
    },
    {
      "cell_type": "code",
      "metadata": {
        "id": "NNOVH4xhto4n",
        "colab_type": "code",
        "colab": {}
      },
      "source": [
        "F1_score = round(f1_score(Y_test_data ,prediction2,average='macro'),5)*100\n",
        "recall = round(recall_score(Y_test_data,prediction2,average='macro'),5)*100\n",
        "precision = round(precision_score(Y_test_data ,prediction2,average='macro'),5)*100"
      ],
      "execution_count": 0,
      "outputs": []
    },
    {
      "cell_type": "code",
      "metadata": {
        "id": "w2KVRteBtozu",
        "colab_type": "code",
        "outputId": "20634590-0592-4b46-ba75-ea8a0de66d13",
        "colab": {
          "base_uri": "https://localhost:8080/",
          "height": 173
        }
      },
      "source": [
        "print(classification_report( Y_test_data,prediction2))"
      ],
      "execution_count": 0,
      "outputs": [
        {
          "output_type": "stream",
          "text": [
            "              precision    recall  f1-score   support\n",
            "\n",
            "           0       0.79      0.68      0.73      3912\n",
            "           1       0.85      0.91      0.88      8088\n",
            "\n",
            "    accuracy                           0.84     12000\n",
            "   macro avg       0.82      0.80      0.81     12000\n",
            "weighted avg       0.83      0.84      0.83     12000\n",
            "\n"
          ],
          "name": "stdout"
        }
      ]
    },
    {
      "cell_type": "code",
      "metadata": {
        "id": "K_XE5-wLtouz",
        "colab_type": "code",
        "outputId": "546e62a8-10cb-4430-ed99-1b71159f9686",
        "colab": {
          "base_uri": "https://localhost:8080/",
          "height": 295
        }
      },
      "source": [
        "cm = confusion_matrix(Y_test_data ,prediction2)\n",
        "label = ['negative', 'positive']\n",
        "df_conf = pd.DataFrame(cm, index = label, columns = label)\n",
        "sns.heatmap(df_conf, annot = True, fmt = \"d\")\n",
        "plt.title(\"Confusiion Matrix\")\n",
        "plt.xlabel(\"Predicted Label\")\n",
        "plt.ylabel(\"True Label\")\n",
        "plt.show()"
      ],
      "execution_count": 0,
      "outputs": [
        {
          "output_type": "display_data",
          "data": {
            "image/png": "[encoded data removed]",
            "text/plain": [
              "<Figure size 432x288 with 2 Axes>"
            ]
          },
          "metadata": {
            "tags": []
          }
        }
      ]
    },
    {
      "cell_type": "code",
      "metadata": {
        "id": "tm9-QTO_ueuS",
        "colab_type": "code",
        "colab": {}
      },
      "source": [
        "models_performence1['Model'].append('Logistic Regression')\n",
        "models_performence1['Vectorizer'].append('BOW')\n",
        "models_performence1['SearchCV'].append(SearchCV)\n",
        "models_performence1['Best penalty'].append(best_panalty)\n",
        "models_performence1[ 'Optimal lambda'].append(lambda_new)\n",
        "models_performence1['Training error'].append(training_error*100)\n",
        "models_performence1[ 'Test error'].append(Testing_error*100)\n",
        "models_performence1[ 'Accuracy'].append(Testing_score)\n",
        "models_performence1[ 'F1'].append(F1_score)\n",
        "models_performence1['recall'].append(recall)\n",
        "models_performence1[ 'precision'].append(precision)"
      ],
      "execution_count": 0,
      "outputs": []
    },
    {
      "cell_type": "code",
      "metadata": {
        "id": "aGOdAsBmueqZ",
        "colab_type": "code",
        "colab": {}
      },
      "source": [
        "columns = [\"Model\",\"Vectorizer\",\"SearchCV\", \"Best penalty\",\"Optimal lambda\", \"Training error\",  \"Test error\",\n",
        "            \"Accuracy\",\"F1\",\"recall\",\"precision\",\n",
        "          ]\n",
        "df3=pd.DataFrame(models_performence1, columns=columns)"
      ],
      "execution_count": 0,
      "outputs": []
    },
    {
      "cell_type": "code",
      "metadata": {
        "id": "MEhfN-xVuel2",
        "colab_type": "code",
        "outputId": "709ce003-481b-4160-cfac-30de9bd3d45a",
        "colab": {
          "base_uri": "https://localhost:8080/",
          "height": 86
        }
      },
      "source": [
        "\n",
        "result_display(df3)"
      ],
      "execution_count": 0,
      "outputs": [
        {
          "output_type": "stream",
          "text": [
            "|       Model       |Vectorizer|   SearchCV   |Best penalty|Optimal lambda|Training error|Test error|Accuracy| F1  |recall|precision|\n",
            "|-------------------|----------|--------------|------------|-------------:|-------------:|---------:|-------:|----:|-----:|--------:|\n",
            "|Logistic Regression|BoW       |GridSearchCV  |l2          |        1.0000|      0.005037|     20.46|  0.7954|76.53| 76.32|    76.76|\n",
            "|Logistic Regression|BOW       |RandomsearchCV|l2          |        0.0036|      0.986776|     16.38|  0.8362|80.59| 79.51|    82.21|\n"
          ],
          "name": "stdout"
        }
      ]
    },
    {
      "cell_type": "markdown",
      "metadata": {
        "id": "fpbspoU1utBi",
        "colab_type": "text"
      },
      "source": [
        "# 2. tf-idf\n",
        "\n",
        "TFIDF, short for term frequency–inverse document frequency, is a numerical statistic that is intended to reflect how important a word is to a document in a collection or corpus. It is often used as a weighting factor in searches of information retrieval, text mining, and user modeling. The tf–idf value increases proportionally to the number of times a word appears in the document and is offset by the number of documents in the corpus that contain the word, which helps to adjust for the fact that some words appear more frequently in general. tf–idf is one of the most popular term-weighting schemes today; 83% of text-based recommender systems in digital libraries use tf–idf.\n",
        "\n",
        "Variations of the tf–idf weighting scheme are often used by search engines as a central tool in scoring and ranking a document's relevance given a user query. tf–idf can be successfully used for stop-words filtering in various subject fields, including text summarization and classification."
      ]
    },
    {
      "cell_type": "code",
      "metadata": {
        "id": "8EP5Msdrueg8",
        "colab_type": "code",
        "outputId": "4c7e1546-daa9-4dd2-f0f2-e27b7d52b2ec",
        "colab": {
          "base_uri": "https://localhost:8080/",
          "height": 48
        }
      },
      "source": [
        "models_performence = {\n",
        "    'Model':[],\n",
        "    'Vectorizer': [],\n",
        "    'SearchCV':[],\n",
        "    'Scoring Metrics': [],\n",
        "    'Train_model_score': [],\n",
        "    'Test_model_score': [],\n",
        "    'best panalty': [],\n",
        "    'Best lambda':[],\n",
        "}\n",
        "\n",
        "columns = [\"Model\",\"Vectorizer\",\"SearchCV\", \"Scoring Metrics\",\"Train_model_score\",\"Test_model_score\", \"best panalty\",\"Best lambda\"]\n",
        "pd.DataFrame(models_performence, columns=columns)"
      ],
      "execution_count": 0,
      "outputs": [
        {
          "output_type": "execute_result",
          "data": {
            "text/html": [
              "<div>\n",
              "<style scoped>\n",
              "    .dataframe tbody tr th:only-of-type {\n",
              "        vertical-align: middle;\n",
              "    }\n",
              "\n",
              "    .dataframe tbody tr th {\n",
              "        vertical-align: top;\n",
              "    }\n",
              "\n",
              "    .dataframe thead th {\n",
              "        text-align: right;\n",
              "    }\n",
              "</style>\n",
              "<table border=\"1\" class=\"dataframe\">\n",
              "  <thead>\n",
              "    <tr style=\"text-align: right;\">\n",
              "      <th></th>\n",
              "      <th>Model</th>\n",
              "      <th>Vectorizer</th>\n",
              "      <th>SearchCV</th>\n",
              "      <th>Scoring Metrics</th>\n",
              "      <th>Train_model_score</th>\n",
              "      <th>Test_model_score</th>\n",
              "      <th>best panalty</th>\n",
              "      <th>Best lambda</th>\n",
              "    </tr>\n",
              "  </thead>\n",
              "  <tbody>\n",
              "  </tbody>\n",
              "</table>\n",
              "</div>"
            ],
            "text/plain": [
              "Empty DataFrame\n",
              "Columns: [Model, Vectorizer, SearchCV, Scoring Metrics, Train_model_score, Test_model_score, best panalty, Best lambda]\n",
              "Index: []"
            ]
          },
          "metadata": {
            "tags": []
          },
          "execution_count": 58
        }
      ]
    },
    {
      "cell_type": "code",
      "metadata": {
        "id": "dRYQIpvFuebi",
        "colab_type": "code",
        "outputId": "602e4164-c9eb-4c98-d4c0-802768227fea",
        "colab": {
          "base_uri": "https://localhost:8080/",
          "height": 34
        }
      },
      "source": [
        "tf_idf_vect = TfidfVectorizer(ngram_range=(1,2))\n",
        "final_tf_idf = tf_idf_vect.fit_transform(X_train_data.values.astype('U').ravel())\n",
        "final_tf_idf.get_shape()"
      ],
      "execution_count": 0,
      "outputs": [
        {
          "output_type": "execute_result",
          "data": {
            "text/plain": [
              "(28000, 588331)"
            ]
          },
          "metadata": {
            "tags": []
          },
          "execution_count": 34
        }
      ]
    },
    {
      "cell_type": "code",
      "metadata": {
        "id": "RB4NIDT5ueTQ",
        "colab_type": "code",
        "outputId": "117b9072-0bd6-4b32-ab2b-c7e6646d5488",
        "colab": {
          "base_uri": "https://localhost:8080/",
          "height": 34
        }
      },
      "source": [
        "\n",
        "features = tf_idf_vect.get_feature_names()\n",
        "len(features)"
      ],
      "execution_count": 0,
      "outputs": [
        {
          "output_type": "execute_result",
          "data": {
            "text/plain": [
              "588331"
            ]
          },
          "metadata": {
            "tags": []
          },
          "execution_count": 35
        }
      ]
    },
    {
      "cell_type": "code",
      "metadata": {
        "id": "g78DRuDiueNC",
        "colab_type": "code",
        "colab": {}
      },
      "source": [
        "final_tfidf_np = StandardScaler(with_mean=False).fit_transform(final_tf_idf )"
      ],
      "execution_count": 0,
      "outputs": []
    },
    {
      "cell_type": "markdown",
      "metadata": {
        "id": "63rlIW8rvKPN",
        "colab_type": "text"
      },
      "source": [
        "## tf-idf For Testing datasets"
      ]
    },
    {
      "cell_type": "code",
      "metadata": {
        "id": "bIdwSNhvvFl3",
        "colab_type": "code",
        "outputId": "2cb9d26a-830b-4c44-fe1d-768dd8e549e3",
        "colab": {
          "base_uri": "https://localhost:8080/",
          "height": 34
        }
      },
      "source": [
        "final_tf_idf_test = tf_idf_vect.transform(X_test_data.values.astype('U').ravel())\n",
        "final_tf_idf_test.get_shape()"
      ],
      "execution_count": 0,
      "outputs": [
        {
          "output_type": "execute_result",
          "data": {
            "text/plain": [
              "(12000, 588331)"
            ]
          },
          "metadata": {
            "tags": []
          },
          "execution_count": 37
        }
      ]
    },
    {
      "cell_type": "code",
      "metadata": {
        "id": "HmwOQyRLvF9O",
        "colab_type": "code",
        "colab": {}
      },
      "source": [
        "final_tfidf_np_test = StandardScaler(with_mean=False).fit_transform(final_tf_idf_test )"
      ],
      "execution_count": 0,
      "outputs": []
    },
    {
      "cell_type": "code",
      "metadata": {
        "id": "jxiqclM1_OHM",
        "colab_type": "code",
        "colab": {}
      },
      "source": [
        "vectorization='TF-IDF'\n",
        "optimal_lambda = lambda_LR1(final_tfidf_np ,Train_data,final_tfidf_np_test,Y_test_data,vectorization)"
      ],
      "execution_count": 0,
      "outputs": []
    },
    {
      "cell_type": "code",
      "metadata": {
        "id": "yhDfB3tLvGSr",
        "colab_type": "code",
        "colab": {}
      },
      "source": [
        "columns = [\"Model\",\"Vectorizer\",\"SearchCV\", \"Scoring Metrics\",\"Train_model_score\",\"Test_model_score\", \"best panalty\",\"Best lambda\"]\n",
        "df6=pd.DataFrame(models_performence, columns=columns)"
      ],
      "execution_count": 0,
      "outputs": []
    },
    {
      "cell_type": "code",
      "metadata": {
        "id": "1XiH7NynvGtN",
        "colab_type": "code",
        "outputId": "7dd75d3c-c1f3-42e3-ef1d-f67279d1024d",
        "colab": {
          "base_uri": "https://localhost:8080/",
          "height": 190
        }
      },
      "source": [
        "result_display(df6)"
      ],
      "execution_count": 0,
      "outputs": [
        {
          "output_type": "stream",
          "text": [
            "|       Model       |Vectorizer|   SearchCV   |Scoring Metrics|Train_model_score|Test_model_score|best panalty|Best lambda|\n",
            "|-------------------|----------|--------------|---------------|----------------:|---------------:|------------|----------:|\n",
            "|Logistic Regression|TF-IDF    |GridSearchCV  |accuracy       |           0.9989|          0.7872|l2          |   3593.814|\n",
            "|Logistic Regression|TF-IDF    |RandomsearchCV|accuracy       |           0.9989|          0.7765|l2          |      0.100|\n",
            "|Logistic Regression|TF-IDF    |GridSearchCV  |precision      |           0.9985|          0.7671|l2          |   3593.814|\n",
            "|Logistic Regression|TF-IDF    |RandomsearchCV|precision      |           0.9984|          0.7629|l2          |      3.768|\n",
            "|Logistic Regression|TF-IDF    |GridSearchCV  |recall         |           1.0000|          0.9852|l2          |      1.000|\n",
            "|Logistic Regression|TF-IDF    |RandomsearchCV|recall         |           1.0000|          0.9858|l2          |      1.267|\n",
            "|Logistic Regression|TF-IDF    |GridSearchCV  |f1             |           0.9992|          0.8616|l2          |   3593.814|\n",
            "|Logistic Regression|TF-IDF    |RandomsearchCV|f1             |           0.9992|          0.8597|l2          |      3.537|\n"
          ],
          "name": "stdout"
        }
      ]
    },
    {
      "cell_type": "markdown",
      "metadata": {
        "id": "2O_GFWHbwsZd",
        "colab_type": "text"
      },
      "source": [
        "## RandomsearchCV with L2 regularization (Tf-IDf)"
      ]
    },
    {
      "cell_type": "code",
      "metadata": {
        "id": "dZ_59oAevGkN",
        "colab_type": "code",
        "outputId": "349ce696-4d06-4f0e-a9c0-fb4245f77f44",
        "colab": {
          "base_uri": "https://localhost:8080/",
          "height": 173
        }
      },
      "source": [
        "#L2 regularization\n",
        "\n",
        "zx=df6[df6['best panalty'] == 'l2']\n",
        "zx=df6[df6['Vectorizer'] == 'TF-IDF']\n",
        "\n",
        "zx=zx[zx['SearchCV']=='RandomsearchCV']\n",
        "\n",
        "zx= zx.ix[zx['Test_model_score'].idxmax()]\n",
        "print(zx)\n",
        "lambdax=zx['Best lambda']\n",
        "\n",
        "best_panalty=zx['best panalty']\n",
        "\n",
        "Scoring_Metrics =zx['Scoring Metrics']\n",
        "SearchCV=zx['SearchCV']"
      ],
      "execution_count": 0,
      "outputs": [
        {
          "output_type": "stream",
          "text": [
            "Model                Logistic Regression\n",
            "Vectorizer                        TF-IDF\n",
            "SearchCV                  RandomsearchCV\n",
            "Scoring Metrics                   recall\n",
            "Train_model_score                      1\n",
            "Test_model_score                0.985781\n",
            "best panalty                          l2\n",
            "Best lambda                      1.26738\n",
            "Name: 5, dtype: object\n"
          ],
          "name": "stdout"
        }
      ]
    },
    {
      "cell_type": "code",
      "metadata": {
        "id": "UKKjpYgQvF19",
        "colab_type": "code",
        "colab": {}
      },
      "source": [
        "#Best lambda and best penalty\n",
        "C1 = uniform(loc=0, scale=lambdax)\n",
        "hp5=dict(C=C1, penalty=[best_panalty])\n",
        "LR5 =RandomizedSearchCV(LogisticRegression(), hp5, scoring =Scoring_Metrics, cv=tscv)\n",
        "LR5.fit(final_data ,Train_data)\n",
        "\n",
        "prediction5 = LR5.predict(final_data_test)\n",
        "lambda_new=LR5.best_params_['C']"
      ],
      "execution_count": 0,
      "outputs": []
    },
    {
      "cell_type": "code",
      "metadata": {
        "id": "3sMgHMaJw5rR",
        "colab_type": "code",
        "outputId": "52f70d4b-de30-47f9-a7c3-85748732396a",
        "colab": {
          "base_uri": "https://localhost:8080/",
          "height": 52
        }
      },
      "source": [
        "#Training accuracy and training error\n",
        "training_score=LR5.score(final_data,Train_data)\n",
        "print('training accuracy=',training_score)\n",
        "training_error=1-training_score\n",
        "print('training error is =',training_error)"
      ],
      "execution_count": 0,
      "outputs": [
        {
          "output_type": "stream",
          "text": [
            "training accuracy= 0.999949634852682\n",
            "training error is = 5.036514731804331e-05\n"
          ],
          "name": "stdout"
        }
      ]
    },
    {
      "cell_type": "code",
      "metadata": {
        "id": "NCUI00MFw6kV",
        "colab_type": "code",
        "outputId": "179d10d8-eeea-4c15-8b6c-c2074eeb387e",
        "colab": {
          "base_uri": "https://localhost:8080/",
          "height": 52
        }
      },
      "source": [
        "# Testing Accuracy and testing error for knn model\n",
        "\n",
        "Testing_score=round(accuracy_score(Y_test_data ,prediction5),5)\n",
        "print(\"Accuracy for Logistic Regression model with TF_IDF is = \",Testing_score)\n",
        "Testing_error=1-Testing_score\n",
        "print(\"Testing error for Logistic Regression model with TFIDF is = \",Testing_error)"
      ],
      "execution_count": 0,
      "outputs": [
        {
          "output_type": "stream",
          "text": [
            "Accuracy for Logistic Regression model with Avg word2vec is =  0.79958\n",
            "Testing error for Logistic Regression model with Avg word2vec is =  0.20042000000000004\n"
          ],
          "name": "stdout"
        }
      ]
    },
    {
      "cell_type": "code",
      "metadata": {
        "id": "w-I7TI0kw7Aw",
        "colab_type": "code",
        "colab": {}
      },
      "source": [
        "F1_score = round(f1_score(Y_test_data ,prediction5,average='macro'),5)*100\n",
        "recall = round(recall_score(Y_test_data,prediction5,average='macro'),5)*100\n",
        "precision = round(precision_score(Y_test_data ,prediction5,average='macro'),5)*100"
      ],
      "execution_count": 0,
      "outputs": []
    },
    {
      "cell_type": "code",
      "metadata": {
        "id": "3-BH5_D5xHSV",
        "colab_type": "code",
        "outputId": "8ca84a1c-09db-47b2-b723-cdd212ae533d",
        "colab": {
          "base_uri": "https://localhost:8080/",
          "height": 173
        }
      },
      "source": [
        "print(classification_report( Y_test_data,prediction5))"
      ],
      "execution_count": 0,
      "outputs": [
        {
          "output_type": "stream",
          "text": [
            "              precision    recall  f1-score   support\n",
            "\n",
            "           0       0.70      0.67      0.69      3912\n",
            "           1       0.84      0.86      0.85      8088\n",
            "\n",
            "    accuracy                           0.80     12000\n",
            "   macro avg       0.77      0.77      0.77     12000\n",
            "weighted avg       0.80      0.80      0.80     12000\n",
            "\n"
          ],
          "name": "stdout"
        }
      ]
    },
    {
      "cell_type": "code",
      "metadata": {
        "id": "yTgqODzKxHN6",
        "colab_type": "code",
        "outputId": "e0cf5ff1-a3af-4249-dc1a-d0e2c6f8a991",
        "colab": {
          "base_uri": "https://localhost:8080/",
          "height": 295
        }
      },
      "source": [
        "cm = confusion_matrix(Y_test_data ,prediction5)\n",
        "label = ['negative', 'positive']\n",
        "df_conf = pd.DataFrame(cm, index = label, columns = label)\n",
        "sns.heatmap(df_conf, annot = True, fmt = \"d\")\n",
        "plt.title(\"Confusiion Matrix\")\n",
        "plt.xlabel(\"Predicted Label\")\n",
        "plt.ylabel(\"True Label\")\n",
        "plt.show()"
      ],
      "execution_count": 0,
      "outputs": [
        {
          "output_type": "display_data",
          "data": {
            "image/png": "[encoded data removed]",
            "text/plain": [
              "<Figure size 432x288 with 2 Axes>"
            ]
          },
          "metadata": {
            "tags": []
          }
        }
      ]
    },
    {
      "cell_type": "code",
      "metadata": {
        "id": "iJBfj_t8xHI7",
        "colab_type": "code",
        "colab": {}
      },
      "source": [
        "models_performence1['Model'].append('Logistic Regression')\n",
        "models_performence1['Vectorizer'].append('TF-IDF')\n",
        "models_performence1['SearchCV'].append(SearchCV)\n",
        "models_performence1['Best penalty'].append(best_panalty)\n",
        "models_performence1[ 'Optimal lambda'].append(lambda_new)\n",
        "models_performence1['Training error'].append(training_error*100)\n",
        "models_performence1[ 'Test error'].append(Testing_error*100)\n",
        "models_performence1[ 'Accuracy'].append(Testing_score)\n",
        "models_performence1[ 'F1'].append(F1_score)\n",
        "models_performence1['recall'].append(recall)\n",
        "models_performence1[ 'precision'].append(precision)"
      ],
      "execution_count": 0,
      "outputs": []
    },
    {
      "cell_type": "code",
      "metadata": {
        "id": "_ZGUiIIcxHBE",
        "colab_type": "code",
        "colab": {}
      },
      "source": [
        "columns = [\"Model\",\"Vectorizer\",\"SearchCV\", \"Best penalty\",\"Optimal lambda\", \"Training error\",  \"Test error\",\n",
        "            \"Accuracy\",\"F1\",\"recall\",\"precision\",\n",
        "          ]\n",
        "df7=pd.DataFrame(models_performence1, columns=columns)"
      ],
      "execution_count": 0,
      "outputs": []
    },
    {
      "cell_type": "code",
      "metadata": {
        "id": "c83BgPFQw8Eh",
        "colab_type": "code",
        "outputId": "07c9964d-d1b2-4da9-8081-3318331fa95a",
        "colab": {
          "base_uri": "https://localhost:8080/",
          "height": 104
        }
      },
      "source": [
        "result_display(df7)"
      ],
      "execution_count": 0,
      "outputs": [
        {
          "output_type": "stream",
          "text": [
            "|       Model       |Vectorizer|   SearchCV   |Best penalty|Optimal lambda|Training error|Test error|Accuracy| F1  |recall|precision|\n",
            "|-------------------|----------|--------------|------------|-------------:|-------------:|---------:|-------:|----:|-----:|--------:|\n",
            "|Logistic Regression|BoW       |GridSearchCV  |l2          |       1.00000|      0.005037|     20.46|  0.7954|76.53| 76.32|    76.76|\n",
            "|Logistic Regression|BOW       |RandomsearchCV|l2          |       0.00356|      0.986776|     16.38|  0.8362|80.59| 79.51|    82.21|\n",
            "|Logistic Regression|TF-IDF    |RandomsearchCV|l2          |       0.42450|      0.005037|     20.04|  0.7996|76.94| 76.66|    77.27|\n"
          ],
          "name": "stdout"
        }
      ]
    },
    {
      "cell_type": "markdown",
      "metadata": {
        "id": "6gNQJEtmxdnV",
        "colab_type": "text"
      },
      "source": [
        "# GridSearchCV with L2 regularization (Tf-IDf)"
      ]
    },
    {
      "cell_type": "code",
      "metadata": {
        "id": "7qUsfpszxfkG",
        "colab_type": "code",
        "outputId": "2c55797a-f02d-42eb-fb30-13d5bea414b3",
        "colab": {
          "base_uri": "https://localhost:8080/",
          "height": 173
        }
      },
      "source": [
        "zx=df[df['best panalty'] == 'l2']\n",
        "zx=zx[zx['SearchCV']=='GridSearchCV']\n",
        "zx= zx.ix[zx['Test_model_score'].idxmax()]\n",
        "print(zx)\n",
        "lambdax=zx['Best lambda']\n",
        "\n",
        "best_panalty=zx['best panalty']\n",
        "\n",
        "Scoring_Metrics =zx['Scoring Metrics']\n",
        "SearchCV=zx['SearchCV']"
      ],
      "execution_count": 0,
      "outputs": [
        {
          "output_type": "stream",
          "text": [
            "Model                Logistic Regression\n",
            "Vectorizer                           BOW\n",
            "SearchCV                    GridSearchCV\n",
            "Scoring Metrics                   recall\n",
            "Train_model_score                0.99995\n",
            "Test_model_score                0.855836\n",
            "best panalty                          l2\n",
            "Best lambda                            1\n",
            "Name: 4, dtype: object\n"
          ],
          "name": "stdout"
        }
      ]
    },
    {
      "cell_type": "code",
      "metadata": {
        "id": "tJ-Wm0hfzVRA",
        "colab_type": "code",
        "colab": {}
      },
      "source": [
        "#Best lambda and best penalty\n",
        "hp6=dict(C=[lambdax], penalty=[best_panalty])\n",
        "LR6 =GridSearchCV(LogisticRegression(), hp6, scoring =Scoring_Metrics, cv=tscv)\n",
        "\n",
        "LR6 .fit(final_tfidf_np ,Train_data)\n",
        "\n",
        "prediction6 = LR6.predict(final_tfidf_np_test)"
      ],
      "execution_count": 0,
      "outputs": []
    },
    {
      "cell_type": "code",
      "metadata": {
        "id": "ku-_8UhYzVvT",
        "colab_type": "code",
        "outputId": "0212bc48-de77-44d9-d108-b1c3063ab16c",
        "colab": {
          "base_uri": "https://localhost:8080/",
          "height": 52
        }
      },
      "source": [
        "#Training accuracy and training error\n",
        "training_score=LR6.score(final_tfidf_np,Train_data)\n",
        "print('training accuracy=',training_score)\n",
        "training_error=1-training_score\n",
        "print('training error is =',training_error)"
      ],
      "execution_count": 0,
      "outputs": [
        {
          "output_type": "stream",
          "text": [
            "training accuracy= 1.0\n",
            "training error is = 0.0\n"
          ],
          "name": "stdout"
        }
      ]
    },
    {
      "cell_type": "code",
      "metadata": {
        "id": "ZxPon1B6zVr3",
        "colab_type": "code",
        "outputId": "5093473d-4861-47a1-a973-10d07a0c27e7",
        "colab": {
          "base_uri": "https://localhost:8080/",
          "height": 52
        }
      },
      "source": [
        "# Testing Accuracy and testing error for knn model\n",
        "\n",
        "Testing_score=round(accuracy_score(Y_test_data ,prediction6),5)\n",
        "print(\"Accuracy for Logistic Regression model with Avg word2vec is = \",Testing_score)\n",
        "Testing_error=1-Testing_score\n",
        "print(\"Testing error for Logistic Regression model with Avg word2vec is = \",Testing_error)"
      ],
      "execution_count": 0,
      "outputs": [
        {
          "output_type": "stream",
          "text": [
            "Accuracy for Logistic Regression model with Avg word2vec is =  0.781\n",
            "Testing error for Logistic Regression model with Avg word2vec is =  0.21899999999999997\n"
          ],
          "name": "stdout"
        }
      ]
    },
    {
      "cell_type": "code",
      "metadata": {
        "id": "6aWdflcdzVmx",
        "colab_type": "code",
        "colab": {}
      },
      "source": [
        "F1_score = round(f1_score(Y_test_data ,prediction6,average='macro'),5)*100\n",
        "recall = round(recall_score(Y_test_data,prediction6,average='macro'),5)*100\n",
        "precision = round(precision_score(Y_test_data ,prediction6,average='macro'),5)*100"
      ],
      "execution_count": 0,
      "outputs": []
    },
    {
      "cell_type": "code",
      "metadata": {
        "id": "lPpYLFjzzVg4",
        "colab_type": "code",
        "outputId": "6d1f9d73-a062-43ab-e8fc-40157f17dde9",
        "colab": {
          "base_uri": "https://localhost:8080/",
          "height": 173
        }
      },
      "source": [
        "print(classification_report( Y_test_data,prediction6))"
      ],
      "execution_count": 0,
      "outputs": [
        {
          "output_type": "stream",
          "text": [
            "              precision    recall  f1-score   support\n",
            "\n",
            "           0       0.92      0.36      0.52      3912\n",
            "           1       0.76      0.99      0.86      8088\n",
            "\n",
            "    accuracy                           0.78     12000\n",
            "   macro avg       0.84      0.67      0.69     12000\n",
            "weighted avg       0.81      0.78      0.75     12000\n",
            "\n"
          ],
          "name": "stdout"
        }
      ]
    },
    {
      "cell_type": "code",
      "metadata": {
        "id": "wp8fxd-6zVM0",
        "colab_type": "code",
        "outputId": "d70032a9-8394-4b9d-aead-0deb06ca7150",
        "colab": {
          "base_uri": "https://localhost:8080/",
          "height": 295
        }
      },
      "source": [
        "cm = confusion_matrix(Y_test_data ,prediction6)\n",
        "label = ['negative', 'positive']\n",
        "df_conf = pd.DataFrame(cm, index = label, columns = label)\n",
        "sns.heatmap(df_conf, annot = True, fmt = \"d\")\n",
        "plt.title(\"Confusiion Matrix\")\n",
        "plt.xlabel(\"Predicted Label\")\n",
        "plt.ylabel(\"True Label\")\n",
        "plt.show()"
      ],
      "execution_count": 0,
      "outputs": [
        {
          "output_type": "display_data",
          "data": {
            "image/png": "[encoded data removed]",
            "text/plain": [
              "<Figure size 432x288 with 2 Axes>"
            ]
          },
          "metadata": {
            "tags": []
          }
        }
      ]
    },
    {
      "cell_type": "code",
      "metadata": {
        "id": "NIZZ5sSSzVIu",
        "colab_type": "code",
        "colab": {}
      },
      "source": [
        "\n",
        "models_performence1['Model'].append('Logistic Regression')\n",
        "models_performence1['Vectorizer'].append('TF-IDF')\n",
        "models_performence1['SearchCV'].append(SearchCV)\n",
        "models_performence1['Best penalty'].append(best_panalty)\n",
        "models_performence1[ 'Optimal lambda'].append(lambdax)\n",
        "models_performence1['Training error'].append(training_error*100)\n",
        "models_performence1[ 'Test error'].append(Testing_error*100)\n",
        "models_performence1[ 'Accuracy'].append(Testing_score)\n",
        "models_performence1[ 'F1'].append(F1_score)\n",
        "models_performence1['recall'].append(recall)\n",
        "models_performence1[ 'precision'].append(precision)"
      ],
      "execution_count": 0,
      "outputs": []
    },
    {
      "cell_type": "code",
      "metadata": {
        "id": "ILM_OgqWzVEa",
        "colab_type": "code",
        "colab": {}
      },
      "source": [
        "columns = [\"Model\",\"Vectorizer\",\"SearchCV\", \"Best penalty\",\"Optimal lambda\", \"Training error\",  \"Test error\",\n",
        "            \"Accuracy\",\"F1\",\"recall\",\"precision\",\n",
        "          ]\n",
        "df8=pd.DataFrame(models_performence1, columns=columns)"
      ],
      "execution_count": 0,
      "outputs": []
    },
    {
      "cell_type": "code",
      "metadata": {
        "id": "cTgrsjOjzs0r",
        "colab_type": "code",
        "outputId": "7b8fbed3-a68f-435a-ddeb-23179103e470",
        "colab": {
          "base_uri": "https://localhost:8080/",
          "height": 121
        }
      },
      "source": [
        "result_display(df8)"
      ],
      "execution_count": 0,
      "outputs": [
        {
          "output_type": "stream",
          "text": [
            "|       Model       |Vectorizer|   SearchCV   |Best penalty|Optimal lambda|Training error|Test error|Accuracy| F1  |recall|precision|\n",
            "|-------------------|----------|--------------|------------|-------------:|-------------:|---------:|-------:|----:|-----:|--------:|\n",
            "|Logistic Regression|BoW       |GridSearchCV  |l2          |        1.0000|       0.00504|     20.46|  0.7954|76.53| 76.32|    76.76|\n",
            "|Logistic Regression|BOW       |RandomsearchCV|l2          |        0.0036|       0.98678|     16.38|  0.8362|80.59| 79.51|    82.21|\n",
            "|Logistic Regression|TF-IDF    |RandomsearchCV|l2          |        0.4245|       0.00504|     20.04|  0.7996|76.94| 76.66|    77.27|\n",
            "|Logistic Regression|TF-IDF    |GridSearchCV  |l2          |        1.0000|       0.00000|     21.90|  0.7810|68.75| 67.20|    84.09|\n"
          ],
          "name": "stdout"
        }
      ]
    },
    {
      "cell_type": "markdown",
      "metadata": {
        "id": "zkxgjO3Qz5Kf",
        "colab_type": "text"
      },
      "source": [
        "# Feature Importance for Logistic Regression\n",
        "\n",
        "Feature importance using count_vect"
      ]
    },
    {
      "cell_type": "code",
      "metadata": {
        "id": "KiBbm5fh_x3J",
        "colab_type": "code",
        "outputId": "d3d63249-9bbd-48d0-f018-a6bc7d813101",
        "colab": {
          "base_uri": "https://localhost:8080/",
          "height": 52
        }
      },
      "source": [
        "model = LogisticRegression( random_state=0, class_weight='balanced')\n",
        "model.fit(final_data ,Train_data)\n",
        "# Calculate feature importances\n",
        "count_vect_feature=count_vect.get_feature_names()\n",
        "feature_importance = model.coef_[0]\n",
        "print(feature_importance)"
      ],
      "execution_count": 0,
      "outputs": [
        {
          "output_type": "stream",
          "text": [
            "[ 1.34850583e-05  2.12334911e-02  4.54989378e-02 ...  5.66638090e-03\n",
            " -2.68272436e-02  5.13767174e-03]\n"
          ],
          "name": "stdout"
        }
      ]
    },
    {
      "cell_type": "code",
      "metadata": {
        "id": "DbcJMzZ4AT5c",
        "colab_type": "code",
        "colab": {}
      },
      "source": [
        "print('pedfjhlfiuvhb oif')"
      ],
      "execution_count": 0,
      "outputs": []
    },
    {
      "cell_type": "code",
      "metadata": {
        "id": "X6sn_9Uv_zjG",
        "colab_type": "code",
        "outputId": "25330093-ae0f-42d5-e9ea-5fd37e9d3abe",
        "colab": {
          "base_uri": "https://localhost:8080/",
          "height": 155
        }
      },
      "source": [
        "Negative_Feature_Importance= feature_importance[-15:]\n",
        "print('Negative_Feature_Importanc',Negative_Feature_Importance)\n",
        "Positive_Feature_Importance= feature_importance[:15]\n",
        "print('Positive_Feature_Importance',Positive_Feature_Importance)"
      ],
      "execution_count": 0,
      "outputs": [
        {
          "output_type": "stream",
          "text": [
            "Negative_Feature_Importanc [-2.38849349e-03  6.36523288e-02  7.06145883e-02 -9.79521208e-06\n",
            " -2.21460169e-03 -5.39698826e-02  2.23220092e-02 -1.71223374e-03\n",
            "  3.69909964e-03  2.89111488e-03 -1.40873524e-02  2.22307962e-02\n",
            "  5.66638090e-03 -2.68272436e-02  5.13767174e-03]\n",
            "Positive_Feature_Importance [ 1.34850583e-05  2.12334911e-02  4.54989378e-02 -3.38668519e-02\n",
            "  1.89187868e-03 -1.65036748e-05  1.16330774e-03 -8.56089222e-03\n",
            " -4.84473679e-07 -9.54025670e-03  1.85752648e-02  1.88811311e-02\n",
            "  4.19564773e-05  4.57073409e-02 -8.24479311e-02]\n"
          ],
          "name": "stdout"
        }
      ]
    },
    {
      "cell_type": "code",
      "metadata": {
        "id": "bfQLCpkHzsoy",
        "colab_type": "code",
        "outputId": "592ec260-6f71-4af7-cb15-2318e2429d11",
        "colab": {
          "base_uri": "https://localhost:8080/",
          "height": 644
        }
      },
      "source": [
        "# Relative Feature Importance for Negative class using BOW\n",
        "feat_imp = pd.Series(feature_importance, count_vect_feature).sort_values(ascending=False)\n",
        "print(\"Top 15 negative class feature\",feat_imp[-15:])\n",
        "\n",
        "feat_imp[-15:].plot(kind='bar', title='Feature Importances')\n",
        "plt.ylabel('Relative Feature Importance for Negative class ')"
      ],
      "execution_count": 0,
      "outputs": [
        {
          "output_type": "stream",
          "text": [
            "Top 15 negative class feature bags             -0.667271\n",
            "china            -0.669418\n",
            "tasteless        -0.708559\n",
            "hard             -0.716983\n",
            "terrible         -0.719146\n",
            "waste            -0.723541\n",
            "chances          -0.740610\n",
            "canidae          -0.747253\n",
            "disgusting       -0.771746\n",
            "changed          -0.778886\n",
            "disappointment   -0.840783\n",
            "awful            -0.871476\n",
            "wasabi           -0.961707\n",
            "worst            -1.288986\n",
            "not              -2.580417\n",
            "dtype: float64\n"
          ],
          "name": "stdout"
        },
        {
          "output_type": "execute_result",
          "data": {
            "text/plain": [
              "Text(0, 0.5, 'Relative Feature Importance for Negative class ')"
            ]
          },
          "metadata": {
            "tags": []
          },
          "execution_count": 41
        },
        {
          "output_type": "display_data",
          "data": {
            "image/png": "[encoded data removed]",
            "text/plain": [
              "<Figure size 432x288 with 1 Axes>"
            ]
          },
          "metadata": {
            "tags": []
          }
        }
      ]
    },
    {
      "cell_type": "code",
      "metadata": {
        "id": "I3HDNyiYzskQ",
        "colab_type": "code",
        "outputId": "ccdd177d-3943-4683-d23e-172b1c1b3e56",
        "colab": {
          "base_uri": "https://localhost:8080/",
          "height": 615
        }
      },
      "source": [
        "#Feature Importances for postive class using count_vect\n",
        "\n",
        "feat_imp = pd.Series(feature_importance, count_vect_feature).sort_values(ascending=False)\n",
        "print(\"Top 15 postive class feature\",feat_imp[:15])\n",
        "\n",
        "feat_imp[:15].plot(kind='bar', title='Feature Importances')\n",
        "plt.ylabel('Relative Feature Importance for Postive class ')"
      ],
      "execution_count": 0,
      "outputs": [
        {
          "output_type": "stream",
          "text": [
            "Top 15 postive class feature great        2.221863\n",
            "love         1.618043\n",
            "best         1.585839\n",
            "good         1.331281\n",
            "perfect      1.296185\n",
            "excellent    1.088919\n",
            "awesome      0.986986\n",
            "find         0.962300\n",
            "loves        0.956074\n",
            "favorite     0.920897\n",
            "big          0.919618\n",
            "wonderful    0.864899\n",
            "keeps        0.845408\n",
            "day          0.772127\n",
            "tasty        0.761375\n",
            "dtype: float64\n"
          ],
          "name": "stdout"
        },
        {
          "output_type": "execute_result",
          "data": {
            "text/plain": [
              "Text(0, 0.5, 'Relative Feature Importance for Postive class ')"
            ]
          },
          "metadata": {
            "tags": []
          },
          "execution_count": 42
        },
        {
          "output_type": "display_data",
          "data": {
            "image/png": "[encoded data removed]",
            "text/plain": [
              "<Figure size 432x288 with 1 Axes>"
            ]
          },
          "metadata": {
            "tags": []
          }
        }
      ]
    },
    {
      "cell_type": "markdown",
      "metadata": {
        "id": "I4OVEBJR0N11",
        "colab_type": "text"
      },
      "source": [
        "## Feature importance using tf-idf -vect"
      ]
    },
    {
      "cell_type": "code",
      "metadata": {
        "id": "tvQTfOBJzsfV",
        "colab_type": "code",
        "outputId": "dbcddc0d-7cb1-4661-9972-acd02254d33b",
        "colab": {
          "base_uri": "https://localhost:8080/",
          "height": 52
        }
      },
      "source": [
        "model = LogisticRegression(random_state=0, class_weight='balanced')\n",
        "model.fit(final_tfidf_np ,Train_data)\n",
        "tf_idf_feature=tf_idf_vect .get_feature_names()\n",
        "feature_importance = model.coef_[0]\n",
        "print(feature_importance)"
      ],
      "execution_count": 0,
      "outputs": [
        {
          "output_type": "stream",
          "text": [
            "[-0.00117937 -0.00117937  0.00895425 ... -0.00228546  0.00212026\n",
            "  0.00212026]\n"
          ],
          "name": "stdout"
        }
      ]
    },
    {
      "cell_type": "code",
      "metadata": {
        "id": "xfFssm6qzsZj",
        "colab_type": "code",
        "outputId": "f1e0500c-c645-4328-bb37-2e358f4f74f2",
        "colab": {
          "base_uri": "https://localhost:8080/",
          "height": 121
        }
      },
      "source": [
        "Negative_Feature_Importance= feature_importance[-15:]\n",
        "print('Negative_Feature_Importance',Negative_Feature_Importance)\n",
        "Positive_Feature_Importance= feature_importance[:15]\n",
        "print('Positive_Feature_Importance',Positive_Feature_Importance)"
      ],
      "execution_count": 0,
      "outputs": [
        {
          "output_type": "stream",
          "text": [
            "Negative_Feature_Importance [ 0.00060386 -0.00204838  0.00123329  0.00073668 -0.00278928  0.00145433\n",
            "  0.00145433  0.00280928 -0.00807861  0.00059899  0.00059899 -0.00228546\n",
            " -0.00228546  0.00212026  0.00212026]\n",
            "Positive_Feature_Importance [-0.00117937 -0.00117937  0.00895425  0.00846983 -0.00482771  0.00224052\n",
            "  0.00122223  0.00122223  0.00511049  0.00050238  0.00174772  0.00499374\n",
            " -0.00135697 -0.00135697  0.00122572]\n"
          ],
          "name": "stdout"
        }
      ]
    },
    {
      "cell_type": "code",
      "metadata": {
        "id": "25AJxIE90YOU",
        "colab_type": "code",
        "outputId": "fe8a3606-28f8-47a0-fd9c-0967c61e7aa3",
        "colab": {
          "base_uri": "https://localhost:8080/",
          "height": 645
        }
      },
      "source": [
        "# Relative Feature Importance for Negative class using tf_idf\n",
        "feat_imp = pd.Series(feature_importance,tf_idf_feature).sort_values(ascending=False)\n",
        "print(\"Top 15 negative class feature\",feat_imp[-15:])\n",
        "\n",
        "feat_imp[-15:].plot(kind='bar', title='Feature Importances')\n",
        "plt.ylabel('Relative Feature Importance for Negative class ')"
      ],
      "execution_count": 0,
      "outputs": [
        {
          "output_type": "stream",
          "text": [
            "Top 15 negative class feature waste             -0.054711\n",
            "store per         -0.055142\n",
            "huge fan          -0.056453\n",
            "terrible          -0.056777\n",
            "awful             -0.056964\n",
            "stale             -0.057962\n",
            "not buy           -0.058493\n",
            "not good          -0.058929\n",
            "disappointed      -0.060368\n",
            "would not         -0.061756\n",
            "family addicted   -0.062578\n",
            "not recommend     -0.063263\n",
            "worst             -0.065517\n",
            "not               -0.069689\n",
            "not worth         -0.090077\n",
            "dtype: float64\n"
          ],
          "name": "stdout"
        },
        {
          "output_type": "execute_result",
          "data": {
            "text/plain": [
              "Text(0, 0.5, 'Relative Feature Importance for Negative class ')"
            ]
          },
          "metadata": {
            "tags": []
          },
          "execution_count": 45
        },
        {
          "output_type": "display_data",
          "data": {
            "image/png": "[encoded data removed]",
            "text/plain": [
              "<Figure size 432x288 with 1 Axes>"
            ]
          },
          "metadata": {
            "tags": []
          }
        }
      ]
    },
    {
      "cell_type": "code",
      "metadata": {
        "id": "01FrXMBb0YLH",
        "colab_type": "code",
        "outputId": "39fbb2d6-f7d7-4f3f-a004-23592dd93bb6",
        "colab": {
          "base_uri": "https://localhost:8080/",
          "height": 615
        }
      },
      "source": [
        "#Feature Importances for postive class using tf_idf\n",
        "\n",
        "feat_imp = pd.Series(feature_importance, tf_idf_feature).sort_values(ascending=False)\n",
        "print(\"Top 15 postive class feature\",feat_imp[:15])\n",
        "\n",
        "feat_imp[:15].plot(kind='bar', title='Feature Importances')\n",
        "plt.ylabel('Relative Feature Importance for Postive class ')"
      ],
      "execution_count": 0,
      "outputs": [
        {
          "output_type": "stream",
          "text": [
            "Top 15 postive class feature great        0.185766\n",
            "best         0.137842\n",
            "love         0.128978\n",
            "good         0.127050\n",
            "use          0.113502\n",
            "excellent    0.110492\n",
            "try          0.097685\n",
            "delicious    0.095287\n",
            "loves        0.085545\n",
            "find         0.083188\n",
            "favorite     0.079197\n",
            "perfect      0.074291\n",
            "wonderful    0.072561\n",
            "tasty        0.070412\n",
            "highly       0.066057\n",
            "dtype: float64\n"
          ],
          "name": "stdout"
        },
        {
          "output_type": "execute_result",
          "data": {
            "text/plain": [
              "Text(0, 0.5, 'Relative Feature Importance for Postive class ')"
            ]
          },
          "metadata": {
            "tags": []
          },
          "execution_count": 46
        },
        {
          "output_type": "display_data",
          "data": {
            "image/png": "[encoded data removed]",
            "text/plain": [
              "<Figure size 432x288 with 1 Axes>"
            ]
          },
          "metadata": {
            "tags": []
          }
        }
      ]
    },
    {
      "cell_type": "markdown",
      "metadata": {
        "id": "SwnVudiS0lVK",
        "colab_type": "text"
      },
      "source": [
        "### Observations\n",
        "Feature Importance for logistic regression using BOW and TF-IDF is as above.\n",
        "Top 15 features for postive words and negative words are printed.\n",
        "Graph is based on features weight vs relative feature importance.\n",
        "Top 15 Important Negative words which determines point belongs to negative class and Top 15 Important positive words which determines point belongs to positive class shows importance of words.\n",
        "\n",
        "\n",
        "\n",
        "#### Use of Pertubation Techniques for postive class and negative class using tf-idf -vect"
      ]
    },
    {
      "cell_type": "code",
      "metadata": {
        "id": "L88bTFqS0YHz",
        "colab_type": "code",
        "outputId": "aec69463-1782-441d-ba13-00f43f0fe09c",
        "colab": {
          "base_uri": "https://localhost:8080/",
          "height": 927
        }
      },
      "source": [
        "# Use of Pertubation Techniques for postive class and negative class using tf-idf -vect\n",
        "feature_importance = 100.0 * (feature_importance / feature_importance.max())\n",
        "# feature_importance# w\n",
        "\n",
        "pos = np.arange(feature_importance.shape[0]) + .5  # 0.5 is pertubation  w`\n",
        "# pos is after adding small noise in weight\n",
        "print('Weight vector with pertubation',pos)\n",
        "print('original Weight vector',feature_importance)\n",
        "\n",
        "\n",
        "yy = [float(i) for i in feature_importance] #w\n",
        "\n",
        "#print(yy)\n",
        "vc=yy -pos\n",
        "print('Difference between w and w`',vc[:20])\n",
        "\n",
        "Pertub_pos = pd.Series(pos[:15],feature_importance[:15]).sort_values(ascending=False)\n",
        "Pertub_pos.plot(kind='bar', title='Feature Importances with pertubation')\n",
        "plt.xlabel('Features weight  range')\n",
        "plt.ylabel('Relative Feature Importance for Positive class ')\n",
        "plt.show()\n",
        "\n",
        "Pertub_neg = pd.Series(pos[-15:],feature_importance[-15:]).sort_values(ascending=False)\n",
        "Pertub_neg.plot(kind='bar', title='Feature Importances with pertubation')\n",
        "plt.xlabel('Features weight  range')\n",
        "plt.ylabel('Relative Feature Importance for Negative Class ')\n",
        "plt.show()"
      ],
      "execution_count": 0,
      "outputs": [
        {
          "output_type": "stream",
          "text": [
            "Weight vector with pertubation [5.000000e-01 1.500000e+00 2.500000e+00 ... 5.883285e+05 5.883295e+05\n",
            " 5.883305e+05]\n",
            "original Weight vector [-0.63486601 -0.63486601  4.82017151 ... -1.23028842  1.14136122\n",
            "  1.14136122]\n",
            "Difference between w and w` [ -1.13486601  -2.13486601   2.32017151   1.05940354  -7.09880868\n",
            "  -4.293906    -5.84206018  -6.84206018  -5.74896811  -9.22956109\n",
            "  -9.55918403  -8.81181377 -13.2304727  -14.2304727  -13.84018056\n",
            " -15.62816899 -16.62816899 -16.19230776 -17.19230776 -17.62115321]\n"
          ],
          "name": "stdout"
        },
        {
          "output_type": "display_data",
          "data": {
            "image/png": "[encoded data removed]",
            "text/plain": [
              "<Figure size 432x288 with 1 Axes>"
            ]
          },
          "metadata": {
            "tags": []
          }
        },
        {
          "output_type": "display_data",
          "data": {
            "image/png": "[encoded data removed]",
            "text/plain": [
              "<Figure size 432x288 with 1 Axes>"
            ]
          },
          "metadata": {
            "tags": []
          }
        }
      ]
    },
    {
      "cell_type": "markdown",
      "metadata": {
        "id": "e73fm_tS0xsi",
        "colab_type": "text"
      },
      "source": [
        "## Pertubation\n",
        "* Pertubation Techniques for positive features and Negative features are used to check collinearity of features.\n",
        "* If weight vector of features can change arbitrarily ,It means weight vector can not be used as feature Importance .\n",
        "* Here,If Original weight vector and pertubated weight vector for respective features differ significantly,then we can't use weight vector (respective feature) for feature importance in particular class.\n",
        "* In Feature Importance for positive class,[ \"great\" ,\"love\",\"and\"] has high importance while [\"are\",\"love this\",\"my\"] has low importance and In pertubated Feature Importance, [\"are\" ,\"my\"] has low importance. This means that we can remove it's Importance from Positive class.\n",
        "* Here,if positive feature or negative feature (words) are pertubated,then we can check whether a particular feature is important or not.\n",
        "* All features are highly important in negative class. Also for pertubated Feature Importance ,all negative features are highly important so Feature .\n",
        "* Importance for negative class doesn't change with small change in weight vector value.\n",
        "* Finally,it is concluded that negative Feature Importance are highly important while positive Feature Importance are not"
      ]
    },
    {
      "cell_type": "markdown",
      "metadata": {
        "id": "6q6TvA7cYf4E",
        "colab_type": "text"
      },
      "source": [
        "# Conclusion"
      ]
    },
    {
      "cell_type": "markdown",
      "metadata": {
        "id": "J_6BusXJYpAV",
        "colab_type": "text"
      },
      "source": [
        "|       Model       |Vectorizer|   SearchCV   |Best penalty|Optimal lambda|Training error|Test error|Accuracy| F1  |recall|precision|\n",
        "|-------------------|----------|--------------|------------|-------------:|-------------:|---------:|-------:|----:|-----:|--------:|\n",
        "|Logistic Regression|BoW       |GridSearchCV  |l2          |        1.0000|       0.00504|     20.46|  0.7954|76.53| 76.32|    76.76|\n",
        "|Logistic Regression|BOW       |RandomsearchCV|l2          |        0.0036|       0.98678|     16.38|  0.8362|80.59| 79.51|    82.21|\n",
        "|Logistic Regression|TF-IDF    |RandomsearchCV|l2          |        0.4245|       0.00504|     20.04|  0.7996|76.94| 76.66|    77.27|\n",
        "|Logistic Regression|TF-IDF    |GridSearchCV  |l2          |        1.0000|       0.00000|     21.90|  0.7810|68.75| 67.20|    84.09|"
      ]
    },
    {
      "cell_type": "markdown",
      "metadata": {
        "id": "mBcRAE-eY5Gu",
        "colab_type": "text"
      },
      "source": [
        "* Above Table shows the performance of trained and tested model with Logistic Regression.\n",
        "* Confusion matrix and scoring metrics values for TF-IDF with RandomSearch CV & L1 regularization is comparatively best with other trained model.\n",
        "* After comparing the developed models, Logistic Regression model with TF-IDF with RandomsearchCV ,l1 regularization works the best to predict the polarity of reviews among all models."
      ]
    },
    {
      "cell_type": "code",
      "metadata": {
        "id": "BA7isDsq0YED",
        "colab_type": "code",
        "colab": {}
      },
      "source": [
        ""
      ],
      "execution_count": 0,
      "outputs": []
    },
    {
      "cell_type": "code",
      "metadata": {
        "id": "J0wIenJj0YAZ",
        "colab_type": "code",
        "colab": {}
      },
      "source": [
        ""
      ],
      "execution_count": 0,
      "outputs": []
    },
    {
      "cell_type": "code",
      "metadata": {
        "id": "jqNA1KUN0X8p",
        "colab_type": "code",
        "colab": {}
      },
      "source": [
        ""
      ],
      "execution_count": 0,
      "outputs": []
    },
    {
      "cell_type": "code",
      "metadata": {
        "id": "8vPKARmQ0X48",
        "colab_type": "code",
        "colab": {}
      },
      "source": [
        ""
      ],
      "execution_count": 0,
      "outputs": []
    },
    {
      "cell_type": "code",
      "metadata": {
        "id": "coHflqKy0Xxs",
        "colab_type": "code",
        "colab": {}
      },
      "source": [
        ""
      ],
      "execution_count": 0,
      "outputs": []
    },
    {
      "cell_type": "code",
      "metadata": {
        "id": "qIyXdAhLzsUa",
        "colab_type": "code",
        "colab": {}
      },
      "source": [
        ""
      ],
      "execution_count": 0,
      "outputs": []
    }
  ]
}